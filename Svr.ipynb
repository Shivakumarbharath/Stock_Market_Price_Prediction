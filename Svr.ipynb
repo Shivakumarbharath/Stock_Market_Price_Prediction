{
 "cells": [
  {
   "cell_type": "markdown",
   "metadata": {},
   "source": [
    "# Stock Market Prediction Using Support Vector Regression"
   ]
  },
  {
   "cell_type": "markdown",
   "metadata": {},
   "source": [
    "### Importing Libraries"
   ]
  },
  {
   "cell_type": "code",
   "execution_count": 1,
   "metadata": {},
   "outputs": [],
   "source": [
    "import pandas as pd\n",
    "import numpy as np\n",
    "import matplotlib.pyplot as plt\n",
    "from sklearn.svm import SVR\n",
    "from sklearn.model_selection import train_test_split\n",
    "from sklearn.metrics import mean_squared_error,mean_absolute_error\n",
    "\n",
    "%matplotlib inline\n"
   ]
  },
  {
   "cell_type": "code",
   "execution_count": 8,
   "metadata": {},
   "outputs": [
    {
     "name": "stdout",
     "output_type": "stream",
     "text": [
      "<class 'pandas.core.frame.DataFrame'>\n",
      "RangeIndex: 7418 entries, 0 to 7417\n",
      "Data columns (total 13 columns):\n",
      " #   Column                     Non-Null Count  Dtype  \n",
      "---  ------                     --------------  -----  \n",
      " 0   Date                       7418 non-null   object \n",
      " 1   Open Price                 7418 non-null   float64\n",
      " 2   High Price                 7418 non-null   float64\n",
      " 3   Low Price                  7418 non-null   float64\n",
      " 4   Close Price                7418 non-null   float64\n",
      " 5   WAP                        7418 non-null   float64\n",
      " 6   No.of Shares               7418 non-null   int64  \n",
      " 7   No. of Trades              7418 non-null   int64  \n",
      " 8   Total Turnover (Rs.)       7418 non-null   float64\n",
      " 9   Deliverable Quantity       4792 non-null   float64\n",
      " 10  % Deli. Qty to Traded Qty  4792 non-null   float64\n",
      " 11  Spread High-Low            7418 non-null   float64\n",
      " 12  Spread Close-Open          7418 non-null   float64\n",
      "dtypes: float64(10), int64(2), object(1)\n",
      "memory usage: 724.5+ KB\n"
     ]
    },
    {
     "data": {
      "text/html": [
       "<div>\n",
       "<style scoped>\n",
       "    .dataframe tbody tr th:only-of-type {\n",
       "        vertical-align: middle;\n",
       "    }\n",
       "\n",
       "    .dataframe tbody tr th {\n",
       "        vertical-align: top;\n",
       "    }\n",
       "\n",
       "    .dataframe thead th {\n",
       "        text-align: right;\n",
       "    }\n",
       "</style>\n",
       "<table border=\"1\" class=\"dataframe\">\n",
       "  <thead>\n",
       "    <tr style=\"text-align: right;\">\n",
       "      <th></th>\n",
       "      <th>Date</th>\n",
       "      <th>Open Price</th>\n",
       "      <th>High Price</th>\n",
       "      <th>Low Price</th>\n",
       "      <th>Close Price</th>\n",
       "      <th>WAP</th>\n",
       "      <th>No.of Shares</th>\n",
       "      <th>No. of Trades</th>\n",
       "      <th>Total Turnover (Rs.)</th>\n",
       "      <th>Deliverable Quantity</th>\n",
       "      <th>% Deli. Qty to Traded Qty</th>\n",
       "      <th>Spread High-Low</th>\n",
       "      <th>Spread Close-Open</th>\n",
       "    </tr>\n",
       "  </thead>\n",
       "  <tbody>\n",
       "    <tr>\n",
       "      <th>0</th>\n",
       "      <td>11-June-2021</td>\n",
       "      <td>346.45</td>\n",
       "      <td>352.90</td>\n",
       "      <td>344.75</td>\n",
       "      <td>350.75</td>\n",
       "      <td>349.506362</td>\n",
       "      <td>1605772</td>\n",
       "      <td>21014</td>\n",
       "      <td>5.612275e+08</td>\n",
       "      <td>336860.0</td>\n",
       "      <td>20.98</td>\n",
       "      <td>8.15</td>\n",
       "      <td>4.30</td>\n",
       "    </tr>\n",
       "    <tr>\n",
       "      <th>1</th>\n",
       "      <td>10-June-2021</td>\n",
       "      <td>345.65</td>\n",
       "      <td>347.85</td>\n",
       "      <td>342.50</td>\n",
       "      <td>344.60</td>\n",
       "      <td>345.174438</td>\n",
       "      <td>1154435</td>\n",
       "      <td>13105</td>\n",
       "      <td>3.984815e+08</td>\n",
       "      <td>202476.0</td>\n",
       "      <td>17.54</td>\n",
       "      <td>5.35</td>\n",
       "      <td>-1.05</td>\n",
       "    </tr>\n",
       "    <tr>\n",
       "      <th>2</th>\n",
       "      <td>9-June-2021</td>\n",
       "      <td>356.50</td>\n",
       "      <td>358.80</td>\n",
       "      <td>339.60</td>\n",
       "      <td>343.25</td>\n",
       "      <td>350.737299</td>\n",
       "      <td>4480912</td>\n",
       "      <td>59698</td>\n",
       "      <td>1.571623e+09</td>\n",
       "      <td>1345349.0</td>\n",
       "      <td>30.02</td>\n",
       "      <td>19.20</td>\n",
       "      <td>-13.25</td>\n",
       "    </tr>\n",
       "    <tr>\n",
       "      <th>3</th>\n",
       "      <td>8-June-2021</td>\n",
       "      <td>346.75</td>\n",
       "      <td>356.50</td>\n",
       "      <td>337.35</td>\n",
       "      <td>352.85</td>\n",
       "      <td>345.857260</td>\n",
       "      <td>3488224</td>\n",
       "      <td>48363</td>\n",
       "      <td>1.206428e+09</td>\n",
       "      <td>1422250.0</td>\n",
       "      <td>40.77</td>\n",
       "      <td>19.15</td>\n",
       "      <td>6.10</td>\n",
       "    </tr>\n",
       "    <tr>\n",
       "      <th>4</th>\n",
       "      <td>7-June-2021</td>\n",
       "      <td>338.55</td>\n",
       "      <td>351.00</td>\n",
       "      <td>338.55</td>\n",
       "      <td>345.50</td>\n",
       "      <td>346.270172</td>\n",
       "      <td>5575585</td>\n",
       "      <td>77740</td>\n",
       "      <td>1.930659e+09</td>\n",
       "      <td>2202934.0</td>\n",
       "      <td>39.51</td>\n",
       "      <td>12.45</td>\n",
       "      <td>6.95</td>\n",
       "    </tr>\n",
       "  </tbody>\n",
       "</table>\n",
       "</div>"
      ],
      "text/plain": [
       "           Date  Open Price  High Price  Low Price  Close Price         WAP  \\\n",
       "0  11-June-2021      346.45      352.90     344.75       350.75  349.506362   \n",
       "1  10-June-2021      345.65      347.85     342.50       344.60  345.174438   \n",
       "2   9-June-2021      356.50      358.80     339.60       343.25  350.737299   \n",
       "3   8-June-2021      346.75      356.50     337.35       352.85  345.857260   \n",
       "4   7-June-2021      338.55      351.00     338.55       345.50  346.270172   \n",
       "\n",
       "   No.of Shares  No. of Trades  Total Turnover (Rs.)  Deliverable Quantity  \\\n",
       "0       1605772          21014          5.612275e+08              336860.0   \n",
       "1       1154435          13105          3.984815e+08              202476.0   \n",
       "2       4480912          59698          1.571623e+09             1345349.0   \n",
       "3       3488224          48363          1.206428e+09             1422250.0   \n",
       "4       5575585          77740          1.930659e+09             2202934.0   \n",
       "\n",
       "   % Deli. Qty to Traded Qty  Spread High-Low  Spread Close-Open  \n",
       "0                      20.98             8.15               4.30  \n",
       "1                      17.54             5.35              -1.05  \n",
       "2                      30.02            19.20             -13.25  \n",
       "3                      40.77            19.15               6.10  \n",
       "4                      39.51            12.45               6.95  "
      ]
     },
     "execution_count": 8,
     "metadata": {},
     "output_type": "execute_result"
    }
   ],
   "source": [
    "df =pd.read_csv('tatamo.csv')\n",
    "df.info()\n",
    "df.head()"
   ]
  },
  {
   "cell_type": "markdown",
   "metadata": {},
   "source": [
    "### Loading The data"
   ]
  },
  {
   "cell_type": "code",
   "execution_count": 9,
   "metadata": {},
   "outputs": [
    {
     "name": "stdout",
     "output_type": "stream",
     "text": [
      "<class 'pandas.core.frame.DataFrame'>\n",
      "DatetimeIndex: 7418 entries, 2021-06-11 to 1991-01-02\n",
      "Data columns (total 12 columns):\n",
      " #   Column                     Non-Null Count  Dtype  \n",
      "---  ------                     --------------  -----  \n",
      " 0   Open Price                 7418 non-null   float64\n",
      " 1   High Price                 7418 non-null   float64\n",
      " 2   Low Price                  7418 non-null   float64\n",
      " 3   Close Price                7418 non-null   float64\n",
      " 4   WAP                        7418 non-null   float64\n",
      " 5   No.of Shares               7418 non-null   int64  \n",
      " 6   No. of Trades              7418 non-null   int64  \n",
      " 7   Total Turnover (Rs.)       7418 non-null   float64\n",
      " 8   Deliverable Quantity       4792 non-null   float64\n",
      " 9   % Deli. Qty to Traded Qty  4792 non-null   float64\n",
      " 10  Spread High-Low            7418 non-null   float64\n",
      " 11  Spread Close-Open          7418 non-null   float64\n",
      "dtypes: float64(10), int64(2)\n",
      "memory usage: 753.4 KB\n",
      "None\n"
     ]
    },
    {
     "data": {
      "text/html": [
       "<div>\n",
       "<style scoped>\n",
       "    .dataframe tbody tr th:only-of-type {\n",
       "        vertical-align: middle;\n",
       "    }\n",
       "\n",
       "    .dataframe tbody tr th {\n",
       "        vertical-align: top;\n",
       "    }\n",
       "\n",
       "    .dataframe thead th {\n",
       "        text-align: right;\n",
       "    }\n",
       "</style>\n",
       "<table border=\"1\" class=\"dataframe\">\n",
       "  <thead>\n",
       "    <tr style=\"text-align: right;\">\n",
       "      <th></th>\n",
       "      <th>Open Price</th>\n",
       "      <th>High Price</th>\n",
       "      <th>Low Price</th>\n",
       "      <th>Close Price</th>\n",
       "      <th>WAP</th>\n",
       "      <th>No.of Shares</th>\n",
       "      <th>No. of Trades</th>\n",
       "      <th>Total Turnover (Rs.)</th>\n",
       "      <th>Deliverable Quantity</th>\n",
       "      <th>% Deli. Qty to Traded Qty</th>\n",
       "      <th>Spread High-Low</th>\n",
       "      <th>Spread Close-Open</th>\n",
       "    </tr>\n",
       "    <tr>\n",
       "      <th>Date</th>\n",
       "      <th></th>\n",
       "      <th></th>\n",
       "      <th></th>\n",
       "      <th></th>\n",
       "      <th></th>\n",
       "      <th></th>\n",
       "      <th></th>\n",
       "      <th></th>\n",
       "      <th></th>\n",
       "      <th></th>\n",
       "      <th></th>\n",
       "      <th></th>\n",
       "    </tr>\n",
       "  </thead>\n",
       "  <tbody>\n",
       "    <tr>\n",
       "      <th>2021-06-11</th>\n",
       "      <td>346.45</td>\n",
       "      <td>352.90</td>\n",
       "      <td>344.75</td>\n",
       "      <td>350.75</td>\n",
       "      <td>349.506362</td>\n",
       "      <td>1605772</td>\n",
       "      <td>21014</td>\n",
       "      <td>5.612275e+08</td>\n",
       "      <td>336860.0</td>\n",
       "      <td>20.98</td>\n",
       "      <td>8.15</td>\n",
       "      <td>4.30</td>\n",
       "    </tr>\n",
       "    <tr>\n",
       "      <th>2021-06-10</th>\n",
       "      <td>345.65</td>\n",
       "      <td>347.85</td>\n",
       "      <td>342.50</td>\n",
       "      <td>344.60</td>\n",
       "      <td>345.174438</td>\n",
       "      <td>1154435</td>\n",
       "      <td>13105</td>\n",
       "      <td>3.984815e+08</td>\n",
       "      <td>202476.0</td>\n",
       "      <td>17.54</td>\n",
       "      <td>5.35</td>\n",
       "      <td>-1.05</td>\n",
       "    </tr>\n",
       "    <tr>\n",
       "      <th>2021-06-09</th>\n",
       "      <td>356.50</td>\n",
       "      <td>358.80</td>\n",
       "      <td>339.60</td>\n",
       "      <td>343.25</td>\n",
       "      <td>350.737299</td>\n",
       "      <td>4480912</td>\n",
       "      <td>59698</td>\n",
       "      <td>1.571623e+09</td>\n",
       "      <td>1345349.0</td>\n",
       "      <td>30.02</td>\n",
       "      <td>19.20</td>\n",
       "      <td>-13.25</td>\n",
       "    </tr>\n",
       "    <tr>\n",
       "      <th>2021-06-08</th>\n",
       "      <td>346.75</td>\n",
       "      <td>356.50</td>\n",
       "      <td>337.35</td>\n",
       "      <td>352.85</td>\n",
       "      <td>345.857260</td>\n",
       "      <td>3488224</td>\n",
       "      <td>48363</td>\n",
       "      <td>1.206428e+09</td>\n",
       "      <td>1422250.0</td>\n",
       "      <td>40.77</td>\n",
       "      <td>19.15</td>\n",
       "      <td>6.10</td>\n",
       "    </tr>\n",
       "    <tr>\n",
       "      <th>2021-06-07</th>\n",
       "      <td>338.55</td>\n",
       "      <td>351.00</td>\n",
       "      <td>338.55</td>\n",
       "      <td>345.50</td>\n",
       "      <td>346.270172</td>\n",
       "      <td>5575585</td>\n",
       "      <td>77740</td>\n",
       "      <td>1.930659e+09</td>\n",
       "      <td>2202934.0</td>\n",
       "      <td>39.51</td>\n",
       "      <td>12.45</td>\n",
       "      <td>6.95</td>\n",
       "    </tr>\n",
       "  </tbody>\n",
       "</table>\n",
       "</div>"
      ],
      "text/plain": [
       "            Open Price  High Price  Low Price  Close Price         WAP  \\\n",
       "Date                                                                     \n",
       "2021-06-11      346.45      352.90     344.75       350.75  349.506362   \n",
       "2021-06-10      345.65      347.85     342.50       344.60  345.174438   \n",
       "2021-06-09      356.50      358.80     339.60       343.25  350.737299   \n",
       "2021-06-08      346.75      356.50     337.35       352.85  345.857260   \n",
       "2021-06-07      338.55      351.00     338.55       345.50  346.270172   \n",
       "\n",
       "            No.of Shares  No. of Trades  Total Turnover (Rs.)  \\\n",
       "Date                                                            \n",
       "2021-06-11       1605772          21014          5.612275e+08   \n",
       "2021-06-10       1154435          13105          3.984815e+08   \n",
       "2021-06-09       4480912          59698          1.571623e+09   \n",
       "2021-06-08       3488224          48363          1.206428e+09   \n",
       "2021-06-07       5575585          77740          1.930659e+09   \n",
       "\n",
       "            Deliverable Quantity  % Deli. Qty to Traded Qty  Spread High-Low  \\\n",
       "Date                                                                           \n",
       "2021-06-11              336860.0                      20.98             8.15   \n",
       "2021-06-10              202476.0                      17.54             5.35   \n",
       "2021-06-09             1345349.0                      30.02            19.20   \n",
       "2021-06-08             1422250.0                      40.77            19.15   \n",
       "2021-06-07             2202934.0                      39.51            12.45   \n",
       "\n",
       "            Spread Close-Open  \n",
       "Date                           \n",
       "2021-06-11               4.30  \n",
       "2021-06-10              -1.05  \n",
       "2021-06-09             -13.25  \n",
       "2021-06-08               6.10  \n",
       "2021-06-07               6.95  "
      ]
     },
     "execution_count": 9,
     "metadata": {},
     "output_type": "execute_result"
    }
   ],
   "source": [
    "df.Date=pd.to_datetime(df.Date)\n",
    "df.set_index('Date',inplace=True)\n",
    "df.head()"
   ]
  },
  {
   "cell_type": "code",
   "execution_count": 10,
   "metadata": {},
   "outputs": [
    {
     "data": {
      "text/html": [
       "<div>\n",
       "<style scoped>\n",
       "    .dataframe tbody tr th:only-of-type {\n",
       "        vertical-align: middle;\n",
       "    }\n",
       "\n",
       "    .dataframe tbody tr th {\n",
       "        vertical-align: top;\n",
       "    }\n",
       "\n",
       "    .dataframe thead th {\n",
       "        text-align: right;\n",
       "    }\n",
       "</style>\n",
       "<table border=\"1\" class=\"dataframe\">\n",
       "  <thead>\n",
       "    <tr style=\"text-align: right;\">\n",
       "      <th></th>\n",
       "      <th>Open Price</th>\n",
       "      <th>High Price</th>\n",
       "      <th>Low Price</th>\n",
       "      <th>Close Price</th>\n",
       "      <th>WAP</th>\n",
       "      <th>No.of Shares</th>\n",
       "      <th>No. of Trades</th>\n",
       "      <th>Total Turnover (Rs.)</th>\n",
       "      <th>Deliverable Quantity</th>\n",
       "      <th>% Deli. Qty to Traded Qty</th>\n",
       "      <th>Spread High-Low</th>\n",
       "      <th>Spread Close-Open</th>\n",
       "    </tr>\n",
       "    <tr>\n",
       "      <th>Date</th>\n",
       "      <th></th>\n",
       "      <th></th>\n",
       "      <th></th>\n",
       "      <th></th>\n",
       "      <th></th>\n",
       "      <th></th>\n",
       "      <th></th>\n",
       "      <th></th>\n",
       "      <th></th>\n",
       "      <th></th>\n",
       "      <th></th>\n",
       "      <th></th>\n",
       "    </tr>\n",
       "  </thead>\n",
       "  <tbody>\n",
       "    <tr>\n",
       "      <th>1991-01-11</th>\n",
       "      <td>170.0</td>\n",
       "      <td>175.0</td>\n",
       "      <td>167.5</td>\n",
       "      <td>175.00</td>\n",
       "      <td>0.0</td>\n",
       "      <td>0</td>\n",
       "      <td>0</td>\n",
       "      <td>0.0</td>\n",
       "      <td>NaN</td>\n",
       "      <td>NaN</td>\n",
       "      <td>7.5</td>\n",
       "      <td>5.00</td>\n",
       "    </tr>\n",
       "    <tr>\n",
       "      <th>1991-01-09</th>\n",
       "      <td>177.5</td>\n",
       "      <td>177.5</td>\n",
       "      <td>167.5</td>\n",
       "      <td>171.25</td>\n",
       "      <td>0.0</td>\n",
       "      <td>0</td>\n",
       "      <td>0</td>\n",
       "      <td>0.0</td>\n",
       "      <td>NaN</td>\n",
       "      <td>NaN</td>\n",
       "      <td>10.0</td>\n",
       "      <td>-6.25</td>\n",
       "    </tr>\n",
       "    <tr>\n",
       "      <th>1991-01-07</th>\n",
       "      <td>170.0</td>\n",
       "      <td>177.5</td>\n",
       "      <td>167.5</td>\n",
       "      <td>176.25</td>\n",
       "      <td>0.0</td>\n",
       "      <td>0</td>\n",
       "      <td>0</td>\n",
       "      <td>0.0</td>\n",
       "      <td>NaN</td>\n",
       "      <td>NaN</td>\n",
       "      <td>10.0</td>\n",
       "      <td>6.25</td>\n",
       "    </tr>\n",
       "    <tr>\n",
       "      <th>1991-01-03</th>\n",
       "      <td>175.0</td>\n",
       "      <td>182.5</td>\n",
       "      <td>175.0</td>\n",
       "      <td>182.50</td>\n",
       "      <td>0.0</td>\n",
       "      <td>0</td>\n",
       "      <td>0</td>\n",
       "      <td>0.0</td>\n",
       "      <td>NaN</td>\n",
       "      <td>NaN</td>\n",
       "      <td>7.5</td>\n",
       "      <td>7.50</td>\n",
       "    </tr>\n",
       "    <tr>\n",
       "      <th>1991-01-02</th>\n",
       "      <td>175.0</td>\n",
       "      <td>182.5</td>\n",
       "      <td>175.0</td>\n",
       "      <td>182.50</td>\n",
       "      <td>0.0</td>\n",
       "      <td>0</td>\n",
       "      <td>0</td>\n",
       "      <td>0.0</td>\n",
       "      <td>NaN</td>\n",
       "      <td>NaN</td>\n",
       "      <td>7.5</td>\n",
       "      <td>7.50</td>\n",
       "    </tr>\n",
       "  </tbody>\n",
       "</table>\n",
       "</div>"
      ],
      "text/plain": [
       "            Open Price  High Price  Low Price  Close Price  WAP  No.of Shares  \\\n",
       "Date                                                                            \n",
       "1991-01-11       170.0       175.0      167.5       175.00  0.0             0   \n",
       "1991-01-09       177.5       177.5      167.5       171.25  0.0             0   \n",
       "1991-01-07       170.0       177.5      167.5       176.25  0.0             0   \n",
       "1991-01-03       175.0       182.5      175.0       182.50  0.0             0   \n",
       "1991-01-02       175.0       182.5      175.0       182.50  0.0             0   \n",
       "\n",
       "            No. of Trades  Total Turnover (Rs.)  Deliverable Quantity  \\\n",
       "Date                                                                    \n",
       "1991-01-11              0                   0.0                   NaN   \n",
       "1991-01-09              0                   0.0                   NaN   \n",
       "1991-01-07              0                   0.0                   NaN   \n",
       "1991-01-03              0                   0.0                   NaN   \n",
       "1991-01-02              0                   0.0                   NaN   \n",
       "\n",
       "            % Deli. Qty to Traded Qty  Spread High-Low  Spread Close-Open  \n",
       "Date                                                                       \n",
       "1991-01-11                        NaN              7.5               5.00  \n",
       "1991-01-09                        NaN             10.0              -6.25  \n",
       "1991-01-07                        NaN             10.0               6.25  \n",
       "1991-01-03                        NaN              7.5               7.50  \n",
       "1991-01-02                        NaN              7.5               7.50  "
      ]
     },
     "execution_count": 10,
     "metadata": {},
     "output_type": "execute_result"
    }
   ],
   "source": [
    "df.tail()"
   ]
  },
  {
   "cell_type": "code",
   "execution_count": 11,
   "metadata": {},
   "outputs": [
    {
     "name": "stdout",
     "output_type": "stream",
     "text": [
      "<class 'pandas.core.frame.DataFrame'>\n",
      "DatetimeIndex: 7418 entries, 2021-06-11 to 1991-01-02\n",
      "Data columns (total 12 columns):\n",
      " #   Column                     Non-Null Count  Dtype  \n",
      "---  ------                     --------------  -----  \n",
      " 0   Open Price                 7418 non-null   float64\n",
      " 1   High Price                 7418 non-null   float64\n",
      " 2   Low Price                  7418 non-null   float64\n",
      " 3   Close Price                7418 non-null   float64\n",
      " 4   WAP                        7418 non-null   float64\n",
      " 5   No.of Shares               7418 non-null   int64  \n",
      " 6   No. of Trades              7418 non-null   int64  \n",
      " 7   Total Turnover (Rs.)       7418 non-null   float64\n",
      " 8   Deliverable Quantity       4792 non-null   float64\n",
      " 9   % Deli. Qty to Traded Qty  4792 non-null   float64\n",
      " 10  Spread High-Low            7418 non-null   float64\n",
      " 11  Spread Close-Open          7418 non-null   float64\n",
      "dtypes: float64(10), int64(2)\n",
      "memory usage: 753.4 KB\n"
     ]
    }
   ],
   "source": [
    "df.info()"
   ]
  },
  {
   "cell_type": "markdown",
   "metadata": {},
   "source": [
    "Preprocessing"
   ]
  },
  {
   "cell_type": "code",
   "execution_count": 12,
   "metadata": {},
   "outputs": [
    {
     "data": {
      "text/plain": [
       "[<matplotlib.lines.Line2D at 0xe05310>]"
      ]
     },
     "execution_count": 12,
     "metadata": {},
     "output_type": "execute_result"
    },
    {
     "data": {
      "image/png": "[encoded data removed]",
      "text/plain": [
       "<Figure size 432x288 with 1 Axes>"
      ]
     },
     "metadata": {
      "needs_background": "light"
     },
     "output_type": "display_data"
    }
   ],
   "source": [
    "df=df.iloc[::-1]\n",
    "df['Target']=df['Close Price'].shift(periods=-1)\n",
    "plt.plot(df.index,df['Target'])"
   ]
  },
  {
   "cell_type": "code",
   "execution_count": 13,
   "metadata": {},
   "outputs": [
    {
     "data": {
      "text/html": [
       "<div>\n",
       "<style scoped>\n",
       "    .dataframe tbody tr th:only-of-type {\n",
       "        vertical-align: middle;\n",
       "    }\n",
       "\n",
       "    .dataframe tbody tr th {\n",
       "        vertical-align: top;\n",
       "    }\n",
       "\n",
       "    .dataframe thead th {\n",
       "        text-align: right;\n",
       "    }\n",
       "</style>\n",
       "<table border=\"1\" class=\"dataframe\">\n",
       "  <thead>\n",
       "    <tr style=\"text-align: right;\">\n",
       "      <th></th>\n",
       "      <th>Open Price</th>\n",
       "      <th>High Price</th>\n",
       "      <th>Low Price</th>\n",
       "      <th>Close Price</th>\n",
       "      <th>WAP</th>\n",
       "      <th>No.of Shares</th>\n",
       "      <th>No. of Trades</th>\n",
       "      <th>Total Turnover (Rs.)</th>\n",
       "      <th>Deliverable Quantity</th>\n",
       "      <th>% Deli. Qty to Traded Qty</th>\n",
       "      <th>Spread High-Low</th>\n",
       "      <th>Spread Close-Open</th>\n",
       "      <th>Target</th>\n",
       "    </tr>\n",
       "    <tr>\n",
       "      <th>Date</th>\n",
       "      <th></th>\n",
       "      <th></th>\n",
       "      <th></th>\n",
       "      <th></th>\n",
       "      <th></th>\n",
       "      <th></th>\n",
       "      <th></th>\n",
       "      <th></th>\n",
       "      <th></th>\n",
       "      <th></th>\n",
       "      <th></th>\n",
       "      <th></th>\n",
       "      <th></th>\n",
       "    </tr>\n",
       "  </thead>\n",
       "  <tbody>\n",
       "    <tr>\n",
       "      <th>2021-06-07</th>\n",
       "      <td>338.55</td>\n",
       "      <td>351.00</td>\n",
       "      <td>338.55</td>\n",
       "      <td>345.50</td>\n",
       "      <td>346.270172</td>\n",
       "      <td>5575585</td>\n",
       "      <td>77740</td>\n",
       "      <td>1.930659e+09</td>\n",
       "      <td>2202934.0</td>\n",
       "      <td>39.51</td>\n",
       "      <td>12.45</td>\n",
       "      <td>6.95</td>\n",
       "      <td>352.85</td>\n",
       "    </tr>\n",
       "    <tr>\n",
       "      <th>2021-06-08</th>\n",
       "      <td>346.75</td>\n",
       "      <td>356.50</td>\n",
       "      <td>337.35</td>\n",
       "      <td>352.85</td>\n",
       "      <td>345.857260</td>\n",
       "      <td>3488224</td>\n",
       "      <td>48363</td>\n",
       "      <td>1.206428e+09</td>\n",
       "      <td>1422250.0</td>\n",
       "      <td>40.77</td>\n",
       "      <td>19.15</td>\n",
       "      <td>6.10</td>\n",
       "      <td>343.25</td>\n",
       "    </tr>\n",
       "    <tr>\n",
       "      <th>2021-06-09</th>\n",
       "      <td>356.50</td>\n",
       "      <td>358.80</td>\n",
       "      <td>339.60</td>\n",
       "      <td>343.25</td>\n",
       "      <td>350.737299</td>\n",
       "      <td>4480912</td>\n",
       "      <td>59698</td>\n",
       "      <td>1.571623e+09</td>\n",
       "      <td>1345349.0</td>\n",
       "      <td>30.02</td>\n",
       "      <td>19.20</td>\n",
       "      <td>-13.25</td>\n",
       "      <td>344.60</td>\n",
       "    </tr>\n",
       "    <tr>\n",
       "      <th>2021-06-10</th>\n",
       "      <td>345.65</td>\n",
       "      <td>347.85</td>\n",
       "      <td>342.50</td>\n",
       "      <td>344.60</td>\n",
       "      <td>345.174438</td>\n",
       "      <td>1154435</td>\n",
       "      <td>13105</td>\n",
       "      <td>3.984815e+08</td>\n",
       "      <td>202476.0</td>\n",
       "      <td>17.54</td>\n",
       "      <td>5.35</td>\n",
       "      <td>-1.05</td>\n",
       "      <td>350.75</td>\n",
       "    </tr>\n",
       "    <tr>\n",
       "      <th>2021-06-11</th>\n",
       "      <td>346.45</td>\n",
       "      <td>352.90</td>\n",
       "      <td>344.75</td>\n",
       "      <td>350.75</td>\n",
       "      <td>349.506362</td>\n",
       "      <td>1605772</td>\n",
       "      <td>21014</td>\n",
       "      <td>5.612275e+08</td>\n",
       "      <td>336860.0</td>\n",
       "      <td>20.98</td>\n",
       "      <td>8.15</td>\n",
       "      <td>4.30</td>\n",
       "      <td>NaN</td>\n",
       "    </tr>\n",
       "  </tbody>\n",
       "</table>\n",
       "</div>"
      ],
      "text/plain": [
       "            Open Price  High Price  Low Price  Close Price         WAP  \\\n",
       "Date                                                                     \n",
       "2021-06-07      338.55      351.00     338.55       345.50  346.270172   \n",
       "2021-06-08      346.75      356.50     337.35       352.85  345.857260   \n",
       "2021-06-09      356.50      358.80     339.60       343.25  350.737299   \n",
       "2021-06-10      345.65      347.85     342.50       344.60  345.174438   \n",
       "2021-06-11      346.45      352.90     344.75       350.75  349.506362   \n",
       "\n",
       "            No.of Shares  No. of Trades  Total Turnover (Rs.)  \\\n",
       "Date                                                            \n",
       "2021-06-07       5575585          77740          1.930659e+09   \n",
       "2021-06-08       3488224          48363          1.206428e+09   \n",
       "2021-06-09       4480912          59698          1.571623e+09   \n",
       "2021-06-10       1154435          13105          3.984815e+08   \n",
       "2021-06-11       1605772          21014          5.612275e+08   \n",
       "\n",
       "            Deliverable Quantity  % Deli. Qty to Traded Qty  Spread High-Low  \\\n",
       "Date                                                                           \n",
       "2021-06-07             2202934.0                      39.51            12.45   \n",
       "2021-06-08             1422250.0                      40.77            19.15   \n",
       "2021-06-09             1345349.0                      30.02            19.20   \n",
       "2021-06-10              202476.0                      17.54             5.35   \n",
       "2021-06-11              336860.0                      20.98             8.15   \n",
       "\n",
       "            Spread Close-Open  Target  \n",
       "Date                                   \n",
       "2021-06-07               6.95  352.85  \n",
       "2021-06-08               6.10  343.25  \n",
       "2021-06-09             -13.25  344.60  \n",
       "2021-06-10              -1.05  350.75  \n",
       "2021-06-11               4.30     NaN  "
      ]
     },
     "execution_count": 13,
     "metadata": {},
     "output_type": "execute_result"
    }
   ],
   "source": [
    "df.tail()"
   ]
  },
  {
   "cell_type": "code",
   "execution_count": 14,
   "metadata": {},
   "outputs": [
    {
     "data": {
      "text/html": [
       "<div>\n",
       "<style scoped>\n",
       "    .dataframe tbody tr th:only-of-type {\n",
       "        vertical-align: middle;\n",
       "    }\n",
       "\n",
       "    .dataframe tbody tr th {\n",
       "        vertical-align: top;\n",
       "    }\n",
       "\n",
       "    .dataframe thead th {\n",
       "        text-align: right;\n",
       "    }\n",
       "</style>\n",
       "<table border=\"1\" class=\"dataframe\">\n",
       "  <thead>\n",
       "    <tr style=\"text-align: right;\">\n",
       "      <th></th>\n",
       "      <th>Open Price</th>\n",
       "      <th>High Price</th>\n",
       "      <th>Low Price</th>\n",
       "      <th>Close Price</th>\n",
       "      <th>WAP</th>\n",
       "      <th>No.of Shares</th>\n",
       "      <th>No. of Trades</th>\n",
       "      <th>Total Turnover (Rs.)</th>\n",
       "      <th>Deliverable Quantity</th>\n",
       "      <th>% Deli. Qty to Traded Qty</th>\n",
       "      <th>Spread High-Low</th>\n",
       "      <th>Spread Close-Open</th>\n",
       "      <th>Target</th>\n",
       "    </tr>\n",
       "    <tr>\n",
       "      <th>Date</th>\n",
       "      <th></th>\n",
       "      <th></th>\n",
       "      <th></th>\n",
       "      <th></th>\n",
       "      <th></th>\n",
       "      <th></th>\n",
       "      <th></th>\n",
       "      <th></th>\n",
       "      <th></th>\n",
       "      <th></th>\n",
       "      <th></th>\n",
       "      <th></th>\n",
       "      <th></th>\n",
       "    </tr>\n",
       "  </thead>\n",
       "  <tbody>\n",
       "    <tr>\n",
       "      <th>2021-06-04</th>\n",
       "      <td>325.45</td>\n",
       "      <td>336.90</td>\n",
       "      <td>324.50</td>\n",
       "      <td>334.95</td>\n",
       "      <td>329.707336</td>\n",
       "      <td>1897098</td>\n",
       "      <td>17556</td>\n",
       "      <td>6.254871e+08</td>\n",
       "      <td>552896.0</td>\n",
       "      <td>29.14</td>\n",
       "      <td>12.40</td>\n",
       "      <td>9.50</td>\n",
       "      <td>345.50</td>\n",
       "    </tr>\n",
       "    <tr>\n",
       "      <th>2021-06-07</th>\n",
       "      <td>338.55</td>\n",
       "      <td>351.00</td>\n",
       "      <td>338.55</td>\n",
       "      <td>345.50</td>\n",
       "      <td>346.270172</td>\n",
       "      <td>5575585</td>\n",
       "      <td>77740</td>\n",
       "      <td>1.930659e+09</td>\n",
       "      <td>2202934.0</td>\n",
       "      <td>39.51</td>\n",
       "      <td>12.45</td>\n",
       "      <td>6.95</td>\n",
       "      <td>352.85</td>\n",
       "    </tr>\n",
       "    <tr>\n",
       "      <th>2021-06-08</th>\n",
       "      <td>346.75</td>\n",
       "      <td>356.50</td>\n",
       "      <td>337.35</td>\n",
       "      <td>352.85</td>\n",
       "      <td>345.857260</td>\n",
       "      <td>3488224</td>\n",
       "      <td>48363</td>\n",
       "      <td>1.206428e+09</td>\n",
       "      <td>1422250.0</td>\n",
       "      <td>40.77</td>\n",
       "      <td>19.15</td>\n",
       "      <td>6.10</td>\n",
       "      <td>343.25</td>\n",
       "    </tr>\n",
       "    <tr>\n",
       "      <th>2021-06-09</th>\n",
       "      <td>356.50</td>\n",
       "      <td>358.80</td>\n",
       "      <td>339.60</td>\n",
       "      <td>343.25</td>\n",
       "      <td>350.737299</td>\n",
       "      <td>4480912</td>\n",
       "      <td>59698</td>\n",
       "      <td>1.571623e+09</td>\n",
       "      <td>1345349.0</td>\n",
       "      <td>30.02</td>\n",
       "      <td>19.20</td>\n",
       "      <td>-13.25</td>\n",
       "      <td>344.60</td>\n",
       "    </tr>\n",
       "    <tr>\n",
       "      <th>2021-06-10</th>\n",
       "      <td>345.65</td>\n",
       "      <td>347.85</td>\n",
       "      <td>342.50</td>\n",
       "      <td>344.60</td>\n",
       "      <td>345.174438</td>\n",
       "      <td>1154435</td>\n",
       "      <td>13105</td>\n",
       "      <td>3.984815e+08</td>\n",
       "      <td>202476.0</td>\n",
       "      <td>17.54</td>\n",
       "      <td>5.35</td>\n",
       "      <td>-1.05</td>\n",
       "      <td>350.75</td>\n",
       "    </tr>\n",
       "  </tbody>\n",
       "</table>\n",
       "</div>"
      ],
      "text/plain": [
       "            Open Price  High Price  Low Price  Close Price         WAP  \\\n",
       "Date                                                                     \n",
       "2021-06-04      325.45      336.90     324.50       334.95  329.707336   \n",
       "2021-06-07      338.55      351.00     338.55       345.50  346.270172   \n",
       "2021-06-08      346.75      356.50     337.35       352.85  345.857260   \n",
       "2021-06-09      356.50      358.80     339.60       343.25  350.737299   \n",
       "2021-06-10      345.65      347.85     342.50       344.60  345.174438   \n",
       "\n",
       "            No.of Shares  No. of Trades  Total Turnover (Rs.)  \\\n",
       "Date                                                            \n",
       "2021-06-04       1897098          17556          6.254871e+08   \n",
       "2021-06-07       5575585          77740          1.930659e+09   \n",
       "2021-06-08       3488224          48363          1.206428e+09   \n",
       "2021-06-09       4480912          59698          1.571623e+09   \n",
       "2021-06-10       1154435          13105          3.984815e+08   \n",
       "\n",
       "            Deliverable Quantity  % Deli. Qty to Traded Qty  Spread High-Low  \\\n",
       "Date                                                                           \n",
       "2021-06-04              552896.0                      29.14            12.40   \n",
       "2021-06-07             2202934.0                      39.51            12.45   \n",
       "2021-06-08             1422250.0                      40.77            19.15   \n",
       "2021-06-09             1345349.0                      30.02            19.20   \n",
       "2021-06-10              202476.0                      17.54             5.35   \n",
       "\n",
       "            Spread Close-Open  Target  \n",
       "Date                                   \n",
       "2021-06-04               9.50  345.50  \n",
       "2021-06-07               6.95  352.85  \n",
       "2021-06-08               6.10  343.25  \n",
       "2021-06-09             -13.25  344.60  \n",
       "2021-06-10              -1.05  350.75  "
      ]
     },
     "execution_count": 14,
     "metadata": {},
     "output_type": "execute_result"
    }
   ],
   "source": [
    "#data Cleaning\n",
    "df_m=df\n",
    "df_m=df_m.dropna()\n",
    "df_m.tail()"
   ]
  },
  {
   "cell_type": "code",
   "execution_count": 24,
   "metadata": {},
   "outputs": [],
   "source": [
    "# Data Splitting\n",
    "x_train,x_test,y_train,y_test=train_test_split(df_m.drop(['Target'],axis='columns'),df_m['Target'],test_size=0.3)"
   ]
  },
  {
   "cell_type": "code",
   "execution_count": 25,
   "metadata": {},
   "outputs": [
    {
     "data": {
      "text/plain": [
       "Date\n",
       "2010-12-03    1358.50\n",
       "2021-01-13     245.15\n",
       "2021-05-04     291.50\n",
       "2002-10-11     141.35\n",
       "2005-10-21     517.50\n",
       "               ...   \n",
       "2021-03-08     315.20\n",
       "2008-07-29     416.30\n",
       "2002-07-12     150.55\n",
       "2006-02-03     734.60\n",
       "2010-10-04    1134.35\n",
       "Name: Target, Length: 1438, dtype: float64"
      ]
     },
     "execution_count": 25,
     "metadata": {},
     "output_type": "execute_result"
    }
   ],
   "source": [
    "y_test"
   ]
  },
  {
   "cell_type": "code",
   "execution_count": 26,
   "metadata": {},
   "outputs": [],
   "source": [
    "# Feature scaling\n",
    "from sklearn.preprocessing import StandardScaler\n",
    "sc=StandardScaler()\n",
    "sc.fit(x_train)\n",
    "x_train=sc.transform(x_train)\n",
    "x_test=sc.transform(x_test)"
   ]
  },
  {
   "cell_type": "code",
   "execution_count": 27,
   "metadata": {},
   "outputs": [
    {
     "data": {
      "text/plain": [
       "SVR(kernel='linear')"
      ]
     },
     "execution_count": 27,
     "metadata": {},
     "output_type": "execute_result"
    }
   ],
   "source": [
    "# Model Initialisation and Fitting\n",
    "model=SVR(kernel='linear')\n",
    "model.fit(x_train,y_train)"
   ]
  },
  {
   "cell_type": "code",
   "execution_count": 28,
   "metadata": {},
   "outputs": [
    {
     "data": {
      "text/plain": [
       "0.9979914224573796"
      ]
     },
     "execution_count": 28,
     "metadata": {},
     "output_type": "execute_result"
    }
   ],
   "source": [
    "# Score\n",
    "model.score(x_test,y_test)"
   ]
  },
  {
   "cell_type": "code",
   "execution_count": 29,
   "metadata": {},
   "outputs": [
    {
     "data": {
      "text/plain": [
       "array([1318.90017919,  243.98466756,  290.87581052, ...,  155.87065834,\n",
       "        721.12147605, 1139.22232417])"
      ]
     },
     "execution_count": 29,
     "metadata": {},
     "output_type": "execute_result"
    }
   ],
   "source": [
    "pred_y=model.predict(x_test)\n",
    "pred_y"
   ]
  },
  {
   "cell_type": "code",
   "execution_count": 30,
   "metadata": {},
   "outputs": [
    {
     "data": {
      "text/plain": [
       "12.5570680924221"
      ]
     },
     "execution_count": 30,
     "metadata": {},
     "output_type": "execute_result"
    }
   ],
   "source": [
    "test_e=mean_squared_error(y_test,pred_y,squared=False)\n",
    "test_e"
   ]
  },
  {
   "cell_type": "code",
   "execution_count": 31,
   "metadata": {},
   "outputs": [
    {
     "data": {
      "text/plain": [
       "157.6799590777252"
      ]
     },
     "execution_count": 31,
     "metadata": {},
     "output_type": "execute_result"
    }
   ],
   "source": [
    "mean_squared_error(y_test,pred_y)"
   ]
  },
  {
   "cell_type": "code",
   "execution_count": 38,
   "metadata": {},
   "outputs": [
    {
     "data": {
      "image/png": "[encoded data removed]",
      "text/plain": [
       "<Figure size 432x288 with 1 Axes>"
      ]
     },
     "metadata": {},
     "output_type": "display_data"
    }
   ],
   "source": [
    "# Difference\n",
    "delta_y = y_test-pred_y;\n",
    "import seaborn as sns;\n",
    "import numpy as np;\n",
    "sns.set_style('whitegrid')\n",
    "sns.kdeplot(np.array(delta_y), bw=5)\n",
    "plt.show()"
   ]
  },
  {
   "cell_type": "code",
   "execution_count": 39,
   "metadata": {},
   "outputs": [
    {
     "data": {
      "image/png": "[encoded data removed]",
      "text/plain": [
       "<Figure size 432x288 with 1 Axes>"
      ]
     },
     "metadata": {},
     "output_type": "display_data"
    }
   ],
   "source": [
    "#Plotting\n",
    "sns.set_style('whitegrid')\n",
    "sns.kdeplot(np.array(pred_y), bw=0.5)\n",
    "plt.show()"
   ]
  },
  {
   "cell_type": "code",
   "execution_count": 40,
   "metadata": {},
   "outputs": [
    {
     "data": {
      "image/png": "[encoded data removed]",
      "text/plain": [
       "<Figure size 432x288 with 1 Axes>"
      ]
     },
     "metadata": {},
     "output_type": "display_data"
    }
   ],
   "source": [
    "sns.set_style('whitegrid')\n",
    "sns.kdeplot(np.array(y_test), bw=0.5)\n",
    "plt.show()"
   ]
  },
  {
   "cell_type": "code",
   "execution_count": 41,
   "metadata": {},
   "outputs": [
    {
     "data": {
      "image/png": "[encoded data removed]",
      "text/plain": [
       "<Figure size 432x288 with 1 Axes>"
      ]
     },
     "metadata": {},
     "output_type": "display_data"
    }
   ],
   "source": [
    "#Predicted vs True Values\n",
    "# sns.pairplot(df,kind=\"reg\")\n",
    "plt.plot(pred_y,color='red', label='prediction')\n",
    "plt.plot(list(y_test),color='blue', label='y_test')\n",
    "plt.xlabel('days->')\n",
    "plt.ylabel('prices->')\n",
    "plt.legend(loc='upper left')\n",
    "plt.show()"
   ]
  },
  {
   "cell_type": "code",
   "execution_count": null,
   "metadata": {},
   "outputs": [],
   "source": [
    "# To predict 5-6-21\n",
    "t=sc.transform([[1392.00,1396.50,1377.9,1385.20,1386.142576,108272,4901,1.500804e+08,40390.0,37.30,18.60,-6.80]])\n",
    "model.predict(t)"
   ]
  }
 ],
 "metadata": {
  "kernelspec": {
   "display_name": "Python 3",
   "language": "python",
   "name": "python3"
  },
  "language_info": {
   "codemirror_mode": {
    "name": "ipython",
    "version": 3
   },
   "file_extension": ".py",
   "mimetype": "text/x-python",
   "name": "python",
   "nbconvert_exporter": "python",
   "pygments_lexer": "ipython3",
   "version": "3.8.3"
  }
 },
 "nbformat": 4,
 "nbformat_minor": 4
}
