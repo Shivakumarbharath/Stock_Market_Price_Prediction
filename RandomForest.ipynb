{
 "cells": [
  {
   "cell_type": "code",
   "execution_count": 1,
   "metadata": {},
   "outputs": [],
   "source": [
    "import pandas as pd\n",
    "import numpy as np\n",
    "import matplotlib.pyplot as plt\n",
    "from sklearn.ensemble import RandomForestRegressor\n",
    "from sklearn.model_selection import train_test_split\n",
    "from sklearn.metrics import mean_squared_error,mean_absolute_error,accuracy_score\n",
    "\n",
    "%matplotlib inline\n"
   ]
  },
  {
   "cell_type": "code",
   "execution_count": 2,
   "metadata": {},
   "outputs": [
    {
     "name": "stdout",
     "output_type": "stream",
     "text": [
      "<class 'pandas.core.frame.DataFrame'>\n",
      "RangeIndex: 5391 entries, 0 to 5390\n",
      "Data columns (total 13 columns):\n",
      " #   Column                     Non-Null Count  Dtype  \n",
      "---  ------                     --------------  -----  \n",
      " 0   Date                       5391 non-null   object \n",
      " 1   Open Price                 5391 non-null   float64\n",
      " 2   High Price                 5391 non-null   float64\n",
      " 3   Low Price                  5391 non-null   float64\n",
      " 4   Close Price                5391 non-null   float64\n",
      " 5   WAP                        5391 non-null   float64\n",
      " 6   No.of Shares               5391 non-null   int64  \n",
      " 7   No. of Trades              5391 non-null   int64  \n",
      " 8   Total Turnover (Rs.)       5391 non-null   float64\n",
      " 9   Deliverable Quantity       4786 non-null   float64\n",
      " 10  % Deli. Qty to Traded Qty  4786 non-null   float64\n",
      " 11  Spread High-Low            5391 non-null   float64\n",
      " 12  Spread Close-Open          5391 non-null   float64\n",
      "dtypes: float64(10), int64(2), object(1)\n",
      "memory usage: 526.5+ KB\n"
     ]
    }
   ],
   "source": [
    "df =pd.read_csv('ril.csv')\n",
    "df.info()"
   ]
  },
  {
   "cell_type": "code",
   "execution_count": 3,
   "metadata": {},
   "outputs": [],
   "source": [
    "df.Date=pd.to_datetime(df.Date)"
   ]
  },
  {
   "cell_type": "code",
   "execution_count": 4,
   "metadata": {
    "scrolled": true
   },
   "outputs": [
    {
     "data": {
      "text/html": [
       "<div>\n",
       "<style scoped>\n",
       "    .dataframe tbody tr th:only-of-type {\n",
       "        vertical-align: middle;\n",
       "    }\n",
       "\n",
       "    .dataframe tbody tr th {\n",
       "        vertical-align: top;\n",
       "    }\n",
       "\n",
       "    .dataframe thead th {\n",
       "        text-align: right;\n",
       "    }\n",
       "</style>\n",
       "<table border=\"1\" class=\"dataframe\">\n",
       "  <thead>\n",
       "    <tr style=\"text-align: right;\">\n",
       "      <th></th>\n",
       "      <th>Open Price</th>\n",
       "      <th>High Price</th>\n",
       "      <th>Low Price</th>\n",
       "      <th>Close Price</th>\n",
       "      <th>WAP</th>\n",
       "      <th>No.of Shares</th>\n",
       "      <th>No. of Trades</th>\n",
       "      <th>Total Turnover (Rs.)</th>\n",
       "      <th>Deliverable Quantity</th>\n",
       "      <th>% Deli. Qty to Traded Qty</th>\n",
       "      <th>Spread High-Low</th>\n",
       "      <th>Spread Close-Open</th>\n",
       "    </tr>\n",
       "    <tr>\n",
       "      <th>Date</th>\n",
       "      <th></th>\n",
       "      <th></th>\n",
       "      <th></th>\n",
       "      <th></th>\n",
       "      <th></th>\n",
       "      <th></th>\n",
       "      <th></th>\n",
       "      <th></th>\n",
       "      <th></th>\n",
       "      <th></th>\n",
       "      <th></th>\n",
       "      <th></th>\n",
       "    </tr>\n",
       "  </thead>\n",
       "  <tbody>\n",
       "    <tr>\n",
       "      <th>2021-06-07</th>\n",
       "      <td>2205.9</td>\n",
       "      <td>2241.8</td>\n",
       "      <td>2184.60</td>\n",
       "      <td>2227.30</td>\n",
       "      <td>2215.961873</td>\n",
       "      <td>615525</td>\n",
       "      <td>36724</td>\n",
       "      <td>1.363980e+09</td>\n",
       "      <td>233667.0</td>\n",
       "      <td>37.96</td>\n",
       "      <td>57.20</td>\n",
       "      <td>21.40</td>\n",
       "    </tr>\n",
       "    <tr>\n",
       "      <th>2021-06-04</th>\n",
       "      <td>2219.0</td>\n",
       "      <td>2219.0</td>\n",
       "      <td>2183.80</td>\n",
       "      <td>2190.60</td>\n",
       "      <td>2198.456403</td>\n",
       "      <td>261311</td>\n",
       "      <td>16610</td>\n",
       "      <td>5.744808e+08</td>\n",
       "      <td>75458.0</td>\n",
       "      <td>28.88</td>\n",
       "      <td>35.20</td>\n",
       "      <td>-28.40</td>\n",
       "    </tr>\n",
       "    <tr>\n",
       "      <th>2021-06-03</th>\n",
       "      <td>2222.0</td>\n",
       "      <td>2250.0</td>\n",
       "      <td>2196.10</td>\n",
       "      <td>2209.25</td>\n",
       "      <td>2220.900862</td>\n",
       "      <td>760173</td>\n",
       "      <td>44276</td>\n",
       "      <td>1.688269e+09</td>\n",
       "      <td>228310.0</td>\n",
       "      <td>30.03</td>\n",
       "      <td>53.90</td>\n",
       "      <td>-12.75</td>\n",
       "    </tr>\n",
       "    <tr>\n",
       "      <th>2021-06-02</th>\n",
       "      <td>2159.9</td>\n",
       "      <td>2209.9</td>\n",
       "      <td>2158.55</td>\n",
       "      <td>2201.30</td>\n",
       "      <td>2180.076085</td>\n",
       "      <td>400317</td>\n",
       "      <td>23345</td>\n",
       "      <td>8.727215e+08</td>\n",
       "      <td>109300.0</td>\n",
       "      <td>27.30</td>\n",
       "      <td>51.35</td>\n",
       "      <td>41.40</td>\n",
       "    </tr>\n",
       "    <tr>\n",
       "      <th>2021-06-01</th>\n",
       "      <td>2164.1</td>\n",
       "      <td>2201.7</td>\n",
       "      <td>2147.35</td>\n",
       "      <td>2168.25</td>\n",
       "      <td>2176.469335</td>\n",
       "      <td>916472</td>\n",
       "      <td>56064</td>\n",
       "      <td>1.994673e+09</td>\n",
       "      <td>290019.0</td>\n",
       "      <td>31.65</td>\n",
       "      <td>54.35</td>\n",
       "      <td>4.15</td>\n",
       "    </tr>\n",
       "  </tbody>\n",
       "</table>\n",
       "</div>"
      ],
      "text/plain": [
       "            Open Price  High Price  Low Price  Close Price          WAP  \\\n",
       "Date                                                                      \n",
       "2021-06-07      2205.9      2241.8    2184.60      2227.30  2215.961873   \n",
       "2021-06-04      2219.0      2219.0    2183.80      2190.60  2198.456403   \n",
       "2021-06-03      2222.0      2250.0    2196.10      2209.25  2220.900862   \n",
       "2021-06-02      2159.9      2209.9    2158.55      2201.30  2180.076085   \n",
       "2021-06-01      2164.1      2201.7    2147.35      2168.25  2176.469335   \n",
       "\n",
       "            No.of Shares  No. of Trades  Total Turnover (Rs.)  \\\n",
       "Date                                                            \n",
       "2021-06-07        615525          36724          1.363980e+09   \n",
       "2021-06-04        261311          16610          5.744808e+08   \n",
       "2021-06-03        760173          44276          1.688269e+09   \n",
       "2021-06-02        400317          23345          8.727215e+08   \n",
       "2021-06-01        916472          56064          1.994673e+09   \n",
       "\n",
       "            Deliverable Quantity  % Deli. Qty to Traded Qty  Spread High-Low  \\\n",
       "Date                                                                           \n",
       "2021-06-07              233667.0                      37.96            57.20   \n",
       "2021-06-04               75458.0                      28.88            35.20   \n",
       "2021-06-03              228310.0                      30.03            53.90   \n",
       "2021-06-02              109300.0                      27.30            51.35   \n",
       "2021-06-01              290019.0                      31.65            54.35   \n",
       "\n",
       "            Spread Close-Open  \n",
       "Date                           \n",
       "2021-06-07              21.40  \n",
       "2021-06-04             -28.40  \n",
       "2021-06-03             -12.75  \n",
       "2021-06-02              41.40  \n",
       "2021-06-01               4.15  "
      ]
     },
     "execution_count": 4,
     "metadata": {},
     "output_type": "execute_result"
    }
   ],
   "source": [
    "df.set_index('Date',inplace=True)\n",
    "df.head()"
   ]
  },
  {
   "cell_type": "code",
   "execution_count": 5,
   "metadata": {},
   "outputs": [
    {
     "data": {
      "text/plain": [
       "[<matplotlib.lines.Line2D at 0x96ead60>]"
      ]
     },
     "execution_count": 5,
     "metadata": {},
     "output_type": "execute_result"
    },
    {
     "data": {
      "image/png": "[encoded data removed]",
      "text/plain": [
       "<Figure size 432x288 with 1 Axes>"
      ]
     },
     "metadata": {
      "needs_background": "light"
     },
     "output_type": "display_data"
    }
   ],
   "source": [
    "df=df.iloc[::-1]\n",
    "df['Target']=df['Close Price'].shift(periods=-1)\n",
    "plt.plot(df.index,df['Target'])"
   ]
  },
  {
   "cell_type": "code",
   "execution_count": null,
   "metadata": {},
   "outputs": [],
   "source": []
  },
  {
   "cell_type": "code",
   "execution_count": 6,
   "metadata": {},
   "outputs": [
    {
     "data": {
      "text/plain": [
       "(5391, 13)"
      ]
     },
     "execution_count": 6,
     "metadata": {},
     "output_type": "execute_result"
    }
   ],
   "source": [
    "df.shape"
   ]
  },
  {
   "cell_type": "code",
   "execution_count": 7,
   "metadata": {},
   "outputs": [],
   "source": [
    "df_m=df"
   ]
  },
  {
   "cell_type": "code",
   "execution_count": null,
   "metadata": {},
   "outputs": [],
   "source": []
  },
  {
   "cell_type": "code",
   "execution_count": 8,
   "metadata": {},
   "outputs": [],
   "source": [
    "df_m=df_m.dropna()"
   ]
  },
  {
   "cell_type": "code",
   "execution_count": 9,
   "metadata": {},
   "outputs": [
    {
     "data": {
      "text/plain": [
       "(4785, 13)"
      ]
     },
     "execution_count": 9,
     "metadata": {},
     "output_type": "execute_result"
    }
   ],
   "source": [
    "df_m.shape"
   ]
  },
  {
   "cell_type": "code",
   "execution_count": 10,
   "metadata": {},
   "outputs": [
    {
     "name": "stdout",
     "output_type": "stream",
     "text": [
      "            Open Price  High Price  Low Price  Close Price         WAP  \\\n",
      "Date                                                                     \n",
      "2002-02-08      307.00      314.85     306.25       311.75  310.606894   \n",
      "2002-02-15      312.95      319.90     311.50       315.50  315.861114   \n",
      "2002-02-18      318.00      321.70     316.30       318.80  319.062955   \n",
      "2002-02-19      325.00      325.00     318.50       320.80  320.324936   \n",
      "2002-02-20      315.00      319.80     313.00       317.35  316.464511   \n",
      "\n",
      "            No.of Shares  No. of Trades  Total Turnover (Rs.)  \\\n",
      "Date                                                            \n",
      "2002-02-08       2779877          16481           863448962.0   \n",
      "2002-02-15       2348492          13591           741797300.0   \n",
      "2002-02-18       2073715          10278           661645635.0   \n",
      "2002-02-19       1651680           9697           529074291.0   \n",
      "2002-02-20        978825           6973           309763375.0   \n",
      "\n",
      "            Deliverable Quantity  % Deli. Qty to Traded Qty  Spread High-Low  \\\n",
      "Date                                                                           \n",
      "2002-02-08              930174.0                      33.46              8.6   \n",
      "2002-02-15              690844.0                      29.42              8.4   \n",
      "2002-02-18              815909.0                      39.35              5.4   \n",
      "2002-02-19              506125.0                      30.64              6.5   \n",
      "2002-02-20              258666.0                      26.43              6.8   \n",
      "\n",
      "            Spread Close-Open  Target  \n",
      "Date                                   \n",
      "2002-02-08               4.75  308.30  \n",
      "2002-02-15               2.55  318.80  \n",
      "2002-02-18               0.80  320.80  \n",
      "2002-02-19              -4.20  317.35  \n",
      "2002-02-20               2.35  313.75  \n"
     ]
    },
    {
     "data": {
      "text/html": [
       "<div>\n",
       "<style scoped>\n",
       "    .dataframe tbody tr th:only-of-type {\n",
       "        vertical-align: middle;\n",
       "    }\n",
       "\n",
       "    .dataframe tbody tr th {\n",
       "        vertical-align: top;\n",
       "    }\n",
       "\n",
       "    .dataframe thead th {\n",
       "        text-align: right;\n",
       "    }\n",
       "</style>\n",
       "<table border=\"1\" class=\"dataframe\">\n",
       "  <thead>\n",
       "    <tr style=\"text-align: right;\">\n",
       "      <th></th>\n",
       "      <th>Open Price</th>\n",
       "      <th>High Price</th>\n",
       "      <th>Low Price</th>\n",
       "      <th>Close Price</th>\n",
       "      <th>WAP</th>\n",
       "      <th>No.of Shares</th>\n",
       "      <th>No. of Trades</th>\n",
       "      <th>Total Turnover (Rs.)</th>\n",
       "      <th>Deliverable Quantity</th>\n",
       "      <th>% Deli. Qty to Traded Qty</th>\n",
       "      <th>Spread High-Low</th>\n",
       "      <th>Spread Close-Open</th>\n",
       "      <th>Target</th>\n",
       "    </tr>\n",
       "    <tr>\n",
       "      <th>Date</th>\n",
       "      <th></th>\n",
       "      <th></th>\n",
       "      <th></th>\n",
       "      <th></th>\n",
       "      <th></th>\n",
       "      <th></th>\n",
       "      <th></th>\n",
       "      <th></th>\n",
       "      <th></th>\n",
       "      <th></th>\n",
       "      <th></th>\n",
       "      <th></th>\n",
       "      <th></th>\n",
       "    </tr>\n",
       "  </thead>\n",
       "  <tbody>\n",
       "    <tr>\n",
       "      <th>2021-05-31</th>\n",
       "      <td>2101.0</td>\n",
       "      <td>2191.5</td>\n",
       "      <td>2082.00</td>\n",
       "      <td>2160.45</td>\n",
       "      <td>2153.031591</td>\n",
       "      <td>2034450</td>\n",
       "      <td>97782</td>\n",
       "      <td>4.380235e+09</td>\n",
       "      <td>709688.0</td>\n",
       "      <td>34.88</td>\n",
       "      <td>109.50</td>\n",
       "      <td>59.45</td>\n",
       "      <td>2168.25</td>\n",
       "    </tr>\n",
       "    <tr>\n",
       "      <th>2021-06-01</th>\n",
       "      <td>2164.1</td>\n",
       "      <td>2201.7</td>\n",
       "      <td>2147.35</td>\n",
       "      <td>2168.25</td>\n",
       "      <td>2176.469335</td>\n",
       "      <td>916472</td>\n",
       "      <td>56064</td>\n",
       "      <td>1.994673e+09</td>\n",
       "      <td>290019.0</td>\n",
       "      <td>31.65</td>\n",
       "      <td>54.35</td>\n",
       "      <td>4.15</td>\n",
       "      <td>2201.30</td>\n",
       "    </tr>\n",
       "    <tr>\n",
       "      <th>2021-06-02</th>\n",
       "      <td>2159.9</td>\n",
       "      <td>2209.9</td>\n",
       "      <td>2158.55</td>\n",
       "      <td>2201.30</td>\n",
       "      <td>2180.076085</td>\n",
       "      <td>400317</td>\n",
       "      <td>23345</td>\n",
       "      <td>8.727215e+08</td>\n",
       "      <td>109300.0</td>\n",
       "      <td>27.30</td>\n",
       "      <td>51.35</td>\n",
       "      <td>41.40</td>\n",
       "      <td>2209.25</td>\n",
       "    </tr>\n",
       "    <tr>\n",
       "      <th>2021-06-03</th>\n",
       "      <td>2222.0</td>\n",
       "      <td>2250.0</td>\n",
       "      <td>2196.10</td>\n",
       "      <td>2209.25</td>\n",
       "      <td>2220.900862</td>\n",
       "      <td>760173</td>\n",
       "      <td>44276</td>\n",
       "      <td>1.688269e+09</td>\n",
       "      <td>228310.0</td>\n",
       "      <td>30.03</td>\n",
       "      <td>53.90</td>\n",
       "      <td>-12.75</td>\n",
       "      <td>2190.60</td>\n",
       "    </tr>\n",
       "    <tr>\n",
       "      <th>2021-06-04</th>\n",
       "      <td>2219.0</td>\n",
       "      <td>2219.0</td>\n",
       "      <td>2183.80</td>\n",
       "      <td>2190.60</td>\n",
       "      <td>2198.456403</td>\n",
       "      <td>261311</td>\n",
       "      <td>16610</td>\n",
       "      <td>5.744808e+08</td>\n",
       "      <td>75458.0</td>\n",
       "      <td>28.88</td>\n",
       "      <td>35.20</td>\n",
       "      <td>-28.40</td>\n",
       "      <td>2227.30</td>\n",
       "    </tr>\n",
       "  </tbody>\n",
       "</table>\n",
       "</div>"
      ],
      "text/plain": [
       "            Open Price  High Price  Low Price  Close Price          WAP  \\\n",
       "Date                                                                      \n",
       "2021-05-31      2101.0      2191.5    2082.00      2160.45  2153.031591   \n",
       "2021-06-01      2164.1      2201.7    2147.35      2168.25  2176.469335   \n",
       "2021-06-02      2159.9      2209.9    2158.55      2201.30  2180.076085   \n",
       "2021-06-03      2222.0      2250.0    2196.10      2209.25  2220.900862   \n",
       "2021-06-04      2219.0      2219.0    2183.80      2190.60  2198.456403   \n",
       "\n",
       "            No.of Shares  No. of Trades  Total Turnover (Rs.)  \\\n",
       "Date                                                            \n",
       "2021-05-31       2034450          97782          4.380235e+09   \n",
       "2021-06-01        916472          56064          1.994673e+09   \n",
       "2021-06-02        400317          23345          8.727215e+08   \n",
       "2021-06-03        760173          44276          1.688269e+09   \n",
       "2021-06-04        261311          16610          5.744808e+08   \n",
       "\n",
       "            Deliverable Quantity  % Deli. Qty to Traded Qty  Spread High-Low  \\\n",
       "Date                                                                           \n",
       "2021-05-31              709688.0                      34.88           109.50   \n",
       "2021-06-01              290019.0                      31.65            54.35   \n",
       "2021-06-02              109300.0                      27.30            51.35   \n",
       "2021-06-03              228310.0                      30.03            53.90   \n",
       "2021-06-04               75458.0                      28.88            35.20   \n",
       "\n",
       "            Spread Close-Open   Target  \n",
       "Date                                    \n",
       "2021-05-31              59.45  2168.25  \n",
       "2021-06-01               4.15  2201.30  \n",
       "2021-06-02              41.40  2209.25  \n",
       "2021-06-03             -12.75  2190.60  \n",
       "2021-06-04             -28.40  2227.30  "
      ]
     },
     "execution_count": 10,
     "metadata": {},
     "output_type": "execute_result"
    }
   ],
   "source": [
    "print(df_m.head())\n",
    "df_m.tail()"
   ]
  },
  {
   "cell_type": "code",
   "execution_count": 11,
   "metadata": {},
   "outputs": [],
   "source": [
    "x_train,x_test,y_train,y_test=train_test_split(df_m.drop(['Target'],axis='columns'),df_m['Target'],test_size=0.1)"
   ]
  },
  {
   "cell_type": "code",
   "execution_count": 12,
   "metadata": {},
   "outputs": [],
   "source": [
    "model=RandomForestRegressor(n_estimators=500)"
   ]
  },
  {
   "cell_type": "code",
   "execution_count": 13,
   "metadata": {},
   "outputs": [
    {
     "data": {
      "text/plain": [
       "RandomForestRegressor(n_estimators=500)"
      ]
     },
     "execution_count": 13,
     "metadata": {},
     "output_type": "execute_result"
    }
   ],
   "source": [
    "model.fit(x_train,y_train)"
   ]
  },
  {
   "cell_type": "code",
   "execution_count": 14,
   "metadata": {},
   "outputs": [
    {
     "data": {
      "text/plain": [
       "0.9949724337067946"
      ]
     },
     "execution_count": 14,
     "metadata": {},
     "output_type": "execute_result"
    }
   ],
   "source": [
    "model.score(x_test,y_test)"
   ]
  },
  {
   "cell_type": "code",
   "execution_count": 15,
   "metadata": {},
   "outputs": [],
   "source": []
  },
  {
   "cell_type": "code",
   "execution_count": 16,
   "metadata": {},
   "outputs": [
    {
     "data": {
      "text/plain": [
       "array([1381.9663])"
      ]
     },
     "execution_count": 16,
     "metadata": {},
     "output_type": "execute_result"
    }
   ],
   "source": []
  },
  {
   "cell_type": "code",
   "execution_count": 17,
   "metadata": {},
   "outputs": [
    {
     "data": {
      "text/plain": [
       "array([1383.8302])"
      ]
     },
     "execution_count": 17,
     "metadata": {},
     "output_type": "execute_result"
    }
   ],
   "source": []
  },
  {
   "cell_type": "code",
   "execution_count": 18,
   "metadata": {},
   "outputs": [
    {
     "data": {
      "text/plain": [
       "array([1394.5137])"
      ]
     },
     "execution_count": 18,
     "metadata": {},
     "output_type": "execute_result"
    }
   ],
   "source": []
  },
  {
   "cell_type": "code",
   "execution_count": 19,
   "metadata": {},
   "outputs": [
    {
     "data": {
      "text/html": [
       "<div>\n",
       "<style scoped>\n",
       "    .dataframe tbody tr th:only-of-type {\n",
       "        vertical-align: middle;\n",
       "    }\n",
       "\n",
       "    .dataframe tbody tr th {\n",
       "        vertical-align: top;\n",
       "    }\n",
       "\n",
       "    .dataframe thead th {\n",
       "        text-align: right;\n",
       "    }\n",
       "</style>\n",
       "<table border=\"1\" class=\"dataframe\">\n",
       "  <thead>\n",
       "    <tr style=\"text-align: right;\">\n",
       "      <th></th>\n",
       "      <th>Open Price</th>\n",
       "      <th>High Price</th>\n",
       "      <th>Low Price</th>\n",
       "      <th>Close Price</th>\n",
       "      <th>WAP</th>\n",
       "      <th>No.of Shares</th>\n",
       "      <th>No. of Trades</th>\n",
       "      <th>Total Turnover (Rs.)</th>\n",
       "      <th>Deliverable Quantity</th>\n",
       "      <th>% Deli. Qty to Traded Qty</th>\n",
       "      <th>Spread High-Low</th>\n",
       "      <th>Spread Close-Open</th>\n",
       "      <th>Target</th>\n",
       "    </tr>\n",
       "    <tr>\n",
       "      <th>Date</th>\n",
       "      <th></th>\n",
       "      <th></th>\n",
       "      <th></th>\n",
       "      <th></th>\n",
       "      <th></th>\n",
       "      <th></th>\n",
       "      <th></th>\n",
       "      <th></th>\n",
       "      <th></th>\n",
       "      <th></th>\n",
       "      <th></th>\n",
       "      <th></th>\n",
       "      <th></th>\n",
       "    </tr>\n",
       "  </thead>\n",
       "  <tbody>\n",
       "    <tr>\n",
       "      <th>2021-05-25</th>\n",
       "      <td>1990.05</td>\n",
       "      <td>1997.0</td>\n",
       "      <td>1960.10</td>\n",
       "      <td>1964.50</td>\n",
       "      <td>1975.048084</td>\n",
       "      <td>204518</td>\n",
       "      <td>15132</td>\n",
       "      <td>4.039329e+08</td>\n",
       "      <td>82985.0</td>\n",
       "      <td>40.58</td>\n",
       "      <td>36.90</td>\n",
       "      <td>-25.55</td>\n",
       "      <td>1969.65</td>\n",
       "    </tr>\n",
       "    <tr>\n",
       "      <th>2021-05-26</th>\n",
       "      <td>1984.90</td>\n",
       "      <td>1984.9</td>\n",
       "      <td>1966.00</td>\n",
       "      <td>1969.65</td>\n",
       "      <td>1972.075505</td>\n",
       "      <td>184227</td>\n",
       "      <td>14039</td>\n",
       "      <td>3.633096e+08</td>\n",
       "      <td>54583.0</td>\n",
       "      <td>29.63</td>\n",
       "      <td>18.90</td>\n",
       "      <td>-15.25</td>\n",
       "      <td>1978.20</td>\n",
       "    </tr>\n",
       "    <tr>\n",
       "      <th>2021-05-27</th>\n",
       "      <td>1970.90</td>\n",
       "      <td>1992.2</td>\n",
       "      <td>1963.10</td>\n",
       "      <td>1978.20</td>\n",
       "      <td>1981.392538</td>\n",
       "      <td>274228</td>\n",
       "      <td>13119</td>\n",
       "      <td>5.433533e+08</td>\n",
       "      <td>112076.0</td>\n",
       "      <td>40.87</td>\n",
       "      <td>29.10</td>\n",
       "      <td>7.30</td>\n",
       "      <td>2094.90</td>\n",
       "    </tr>\n",
       "    <tr>\n",
       "      <th>2021-05-28</th>\n",
       "      <td>1990.00</td>\n",
       "      <td>2105.0</td>\n",
       "      <td>1985.10</td>\n",
       "      <td>2094.90</td>\n",
       "      <td>2065.367850</td>\n",
       "      <td>2158323</td>\n",
       "      <td>113895</td>\n",
       "      <td>4.457731e+09</td>\n",
       "      <td>958435.0</td>\n",
       "      <td>44.41</td>\n",
       "      <td>119.90</td>\n",
       "      <td>104.90</td>\n",
       "      <td>2160.45</td>\n",
       "    </tr>\n",
       "    <tr>\n",
       "      <th>2021-05-31</th>\n",
       "      <td>2101.00</td>\n",
       "      <td>2191.5</td>\n",
       "      <td>2082.00</td>\n",
       "      <td>2160.45</td>\n",
       "      <td>2153.031591</td>\n",
       "      <td>2034450</td>\n",
       "      <td>97782</td>\n",
       "      <td>4.380235e+09</td>\n",
       "      <td>709688.0</td>\n",
       "      <td>34.88</td>\n",
       "      <td>109.50</td>\n",
       "      <td>59.45</td>\n",
       "      <td>2168.25</td>\n",
       "    </tr>\n",
       "    <tr>\n",
       "      <th>2021-06-01</th>\n",
       "      <td>2164.10</td>\n",
       "      <td>2201.7</td>\n",
       "      <td>2147.35</td>\n",
       "      <td>2168.25</td>\n",
       "      <td>2176.469335</td>\n",
       "      <td>916472</td>\n",
       "      <td>56064</td>\n",
       "      <td>1.994673e+09</td>\n",
       "      <td>290019.0</td>\n",
       "      <td>31.65</td>\n",
       "      <td>54.35</td>\n",
       "      <td>4.15</td>\n",
       "      <td>2201.30</td>\n",
       "    </tr>\n",
       "    <tr>\n",
       "      <th>2021-06-02</th>\n",
       "      <td>2159.90</td>\n",
       "      <td>2209.9</td>\n",
       "      <td>2158.55</td>\n",
       "      <td>2201.30</td>\n",
       "      <td>2180.076085</td>\n",
       "      <td>400317</td>\n",
       "      <td>23345</td>\n",
       "      <td>8.727215e+08</td>\n",
       "      <td>109300.0</td>\n",
       "      <td>27.30</td>\n",
       "      <td>51.35</td>\n",
       "      <td>41.40</td>\n",
       "      <td>2209.25</td>\n",
       "    </tr>\n",
       "    <tr>\n",
       "      <th>2021-06-03</th>\n",
       "      <td>2222.00</td>\n",
       "      <td>2250.0</td>\n",
       "      <td>2196.10</td>\n",
       "      <td>2209.25</td>\n",
       "      <td>2220.900862</td>\n",
       "      <td>760173</td>\n",
       "      <td>44276</td>\n",
       "      <td>1.688269e+09</td>\n",
       "      <td>228310.0</td>\n",
       "      <td>30.03</td>\n",
       "      <td>53.90</td>\n",
       "      <td>-12.75</td>\n",
       "      <td>2190.60</td>\n",
       "    </tr>\n",
       "    <tr>\n",
       "      <th>2021-06-04</th>\n",
       "      <td>2219.00</td>\n",
       "      <td>2219.0</td>\n",
       "      <td>2183.80</td>\n",
       "      <td>2190.60</td>\n",
       "      <td>2198.456403</td>\n",
       "      <td>261311</td>\n",
       "      <td>16610</td>\n",
       "      <td>5.744808e+08</td>\n",
       "      <td>75458.0</td>\n",
       "      <td>28.88</td>\n",
       "      <td>35.20</td>\n",
       "      <td>-28.40</td>\n",
       "      <td>2227.30</td>\n",
       "    </tr>\n",
       "    <tr>\n",
       "      <th>2021-06-07</th>\n",
       "      <td>2205.90</td>\n",
       "      <td>2241.8</td>\n",
       "      <td>2184.60</td>\n",
       "      <td>2227.30</td>\n",
       "      <td>2215.961873</td>\n",
       "      <td>615525</td>\n",
       "      <td>36724</td>\n",
       "      <td>1.363980e+09</td>\n",
       "      <td>233667.0</td>\n",
       "      <td>37.96</td>\n",
       "      <td>57.20</td>\n",
       "      <td>21.40</td>\n",
       "      <td>NaN</td>\n",
       "    </tr>\n",
       "  </tbody>\n",
       "</table>\n",
       "</div>"
      ],
      "text/plain": [
       "            Open Price  High Price  Low Price  Close Price          WAP  \\\n",
       "Date                                                                      \n",
       "2021-05-25     1990.05      1997.0    1960.10      1964.50  1975.048084   \n",
       "2021-05-26     1984.90      1984.9    1966.00      1969.65  1972.075505   \n",
       "2021-05-27     1970.90      1992.2    1963.10      1978.20  1981.392538   \n",
       "2021-05-28     1990.00      2105.0    1985.10      2094.90  2065.367850   \n",
       "2021-05-31     2101.00      2191.5    2082.00      2160.45  2153.031591   \n",
       "2021-06-01     2164.10      2201.7    2147.35      2168.25  2176.469335   \n",
       "2021-06-02     2159.90      2209.9    2158.55      2201.30  2180.076085   \n",
       "2021-06-03     2222.00      2250.0    2196.10      2209.25  2220.900862   \n",
       "2021-06-04     2219.00      2219.0    2183.80      2190.60  2198.456403   \n",
       "2021-06-07     2205.90      2241.8    2184.60      2227.30  2215.961873   \n",
       "\n",
       "            No.of Shares  No. of Trades  Total Turnover (Rs.)  \\\n",
       "Date                                                            \n",
       "2021-05-25        204518          15132          4.039329e+08   \n",
       "2021-05-26        184227          14039          3.633096e+08   \n",
       "2021-05-27        274228          13119          5.433533e+08   \n",
       "2021-05-28       2158323         113895          4.457731e+09   \n",
       "2021-05-31       2034450          97782          4.380235e+09   \n",
       "2021-06-01        916472          56064          1.994673e+09   \n",
       "2021-06-02        400317          23345          8.727215e+08   \n",
       "2021-06-03        760173          44276          1.688269e+09   \n",
       "2021-06-04        261311          16610          5.744808e+08   \n",
       "2021-06-07        615525          36724          1.363980e+09   \n",
       "\n",
       "            Deliverable Quantity  % Deli. Qty to Traded Qty  Spread High-Low  \\\n",
       "Date                                                                           \n",
       "2021-05-25               82985.0                      40.58            36.90   \n",
       "2021-05-26               54583.0                      29.63            18.90   \n",
       "2021-05-27              112076.0                      40.87            29.10   \n",
       "2021-05-28              958435.0                      44.41           119.90   \n",
       "2021-05-31              709688.0                      34.88           109.50   \n",
       "2021-06-01              290019.0                      31.65            54.35   \n",
       "2021-06-02              109300.0                      27.30            51.35   \n",
       "2021-06-03              228310.0                      30.03            53.90   \n",
       "2021-06-04               75458.0                      28.88            35.20   \n",
       "2021-06-07              233667.0                      37.96            57.20   \n",
       "\n",
       "            Spread Close-Open   Target  \n",
       "Date                                    \n",
       "2021-05-25             -25.55  1969.65  \n",
       "2021-05-26             -15.25  1978.20  \n",
       "2021-05-27               7.30  2094.90  \n",
       "2021-05-28             104.90  2160.45  \n",
       "2021-05-31              59.45  2168.25  \n",
       "2021-06-01               4.15  2201.30  \n",
       "2021-06-02              41.40  2209.25  \n",
       "2021-06-03             -12.75  2190.60  \n",
       "2021-06-04             -28.40  2227.30  \n",
       "2021-06-07              21.40      NaN  "
      ]
     },
     "execution_count": 19,
     "metadata": {},
     "output_type": "execute_result"
    }
   ],
   "source": [
    "df.tail(10)"
   ]
  },
  {
   "cell_type": "code",
   "execution_count": null,
   "metadata": {},
   "outputs": [],
   "source": []
  },
  {
   "cell_type": "code",
   "execution_count": 20,
   "metadata": {},
   "outputs": [
    {
     "data": {
      "text/plain": [
       "array([1393.3231])"
      ]
     },
     "execution_count": 20,
     "metadata": {},
     "output_type": "execute_result"
    }
   ],
   "source": []
  },
  {
   "cell_type": "code",
   "execution_count": 21,
   "metadata": {},
   "outputs": [
    {
     "data": {
      "text/plain": [
       "array([1394.5137])"
      ]
     },
     "execution_count": 21,
     "metadata": {},
     "output_type": "execute_result"
    }
   ],
   "source": []
  },
  {
   "cell_type": "code",
   "execution_count": 22,
   "metadata": {},
   "outputs": [
    {
     "data": {
      "text/plain": [
       "array([2227.9055])"
      ]
     },
     "execution_count": 22,
     "metadata": {},
     "output_type": "execute_result"
    }
   ],
   "source": [
    "# To predict 8-6-21\n",
    "model.predict([[2205.90,2241.80,2184.60,2227.30,2215.96,615525,36724,1363979932,233667,37.96,57.20,21.40]])"
   ]
  },
  {
   "cell_type": "code",
   "execution_count": 23,
   "metadata": {},
   "outputs": [
    {
     "data": {
      "text/plain": [
       "0.9949724337067946"
      ]
     },
     "execution_count": 23,
     "metadata": {},
     "output_type": "execute_result"
    }
   ],
   "source": [
    "model.score(x_test,y_test)"
   ]
  },
  {
   "cell_type": "code",
   "execution_count": 24,
   "metadata": {},
   "outputs": [],
   "source": [
    "pred_y=model.predict(x_test)"
   ]
  },
  {
   "cell_type": "code",
   "execution_count": 25,
   "metadata": {},
   "outputs": [
    {
     "data": {
      "text/plain": [
       "40.151003418184025"
      ]
     },
     "execution_count": 25,
     "metadata": {},
     "output_type": "execute_result"
    }
   ],
   "source": [
    "mean_squared_error(y_test,pred_y,squared=False)"
   ]
  },
  {
   "cell_type": "code",
   "execution_count": 26,
   "metadata": {},
   "outputs": [
    {
     "data": {
      "text/plain": [
       "1612.103075487025"
      ]
     },
     "execution_count": 26,
     "metadata": {},
     "output_type": "execute_result"
    }
   ],
   "source": [
    "mean_squared_error(y_test,pred_y)"
   ]
  },
  {
   "cell_type": "code",
   "execution_count": 27,
   "metadata": {},
   "outputs": [
    {
     "data": {
      "text/plain": [
       "21.314586638830953"
      ]
     },
     "execution_count": 27,
     "metadata": {},
     "output_type": "execute_result"
    }
   ],
   "source": [
    "mean_absolute_error(y_test,pred_y)"
   ]
  },
  {
   "cell_type": "code",
   "execution_count": null,
   "metadata": {},
   "outputs": [],
   "source": []
  },
  {
   "cell_type": "code",
   "execution_count": 28,
   "metadata": {},
   "outputs": [
    {
     "data": {
      "image/png": "[encoded data removed]",
      "text/plain": [
       "<Figure size 432x288 with 1 Axes>"
      ]
     },
     "metadata": {},
     "output_type": "display_data"
    }
   ],
   "source": [
    "delta_y = y_test-pred_y;\n",
    "\n",
    "import seaborn as sns;\n",
    "import numpy as np;\n",
    "sns.set_style('whitegrid')\n",
    "sns.kdeplot(np.array(delta_y), bw=0.5)\n",
    "plt.show()"
   ]
  },
  {
   "cell_type": "code",
   "execution_count": 29,
   "metadata": {},
   "outputs": [
    {
     "data": {
      "image/png": "[encoded data removed]",
      "text/plain": [
       "<Figure size 432x288 with 1 Axes>"
      ]
     },
     "metadata": {},
     "output_type": "display_data"
    }
   ],
   "source": [
    "sns.set_style('whitegrid')\n",
    "sns.kdeplot(np.array(pred_y), bw=0.5)\n",
    "plt.show()"
   ]
  },
  {
   "cell_type": "code",
   "execution_count": 30,
   "metadata": {},
   "outputs": [
    {
     "data": {
      "image/png": "[encoded data removed]",
      "text/plain": [
       "<Figure size 432x288 with 1 Axes>"
      ]
     },
     "metadata": {},
     "output_type": "display_data"
    }
   ],
   "source": [
    "sns.set_style('whitegrid')\n",
    "sns.kdeplot(np.array(y_test), bw=0.5)\n",
    "plt.show()"
   ]
  },
  {
   "cell_type": "code",
   "execution_count": 31,
   "metadata": {},
   "outputs": [
    {
     "data": {
      "image/png": "[encoded data removed]",
      "text/plain": [
       "<Figure size 432x288 with 1 Axes>"
      ]
     },
     "metadata": {},
     "output_type": "display_data"
    }
   ],
   "source": [
    "plt.plot(pred_y,color='red', label='prediction')\n",
    "plt.plot(list(y_test),color='blue', label='y_test')\n",
    "plt.xlabel('days->')\n",
    "plt.ylabel('prices->')\n",
    "plt.legend(loc='upper left')\n",
    "plt.show()"
   ]
  },
  {
   "cell_type": "code",
   "execution_count": 32,
   "metadata": {},
   "outputs": [
    {
     "data": {
      "text/plain": [
       "300.0"
      ]
     },
     "execution_count": 32,
     "metadata": {},
     "output_type": "execute_result"
    }
   ],
   "source": [
    "df.loc['2003-01-01']['Open Price']"
   ]
  },
  {
   "cell_type": "code",
   "execution_count": null,
   "metadata": {},
   "outputs": [],
   "source": []
  },
  {
   "cell_type": "code",
   "execution_count": null,
   "metadata": {},
   "outputs": [],
   "source": []
  }
 ],
 "metadata": {
  "kernelspec": {
   "display_name": "Python 3",
   "language": "python",
   "name": "python3"
  },
  "language_info": {
   "codemirror_mode": {
    "name": "ipython",
    "version": 3
   },
   "file_extension": ".py",
   "mimetype": "text/x-python",
   "name": "python",
   "nbconvert_exporter": "python",
   "pygments_lexer": "ipython3",
   "version": "3.8.3"
  }
 },
 "nbformat": 4,
 "nbformat_minor": 4
}
