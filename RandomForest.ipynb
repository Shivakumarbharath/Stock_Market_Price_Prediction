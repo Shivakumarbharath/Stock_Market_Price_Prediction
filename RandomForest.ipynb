{
 "cells": [
  {
   "cell_type": "markdown",
   "metadata": {},
   "source": [
    "# Stock Price Prediction"
   ]
  },
  {
   "cell_type": "markdown",
   "metadata": {},
   "source": [
    "## Importing Libraries"
   ]
  },
  {
   "cell_type": "code",
   "execution_count": 1,
   "metadata": {},
   "outputs": [],
   "source": [
    "import pandas as pd\n",
    "import numpy as np\n",
    "import matplotlib.pyplot as plt\n",
    "import seaborn as sns\n",
    "from sklearn.ensemble import RandomForestRegressor\n",
    "from sklearn.model_selection import train_test_split\n",
    "from sklearn.metrics import mean_squared_error,mean_absolute_error\n",
    "%matplotlib inline"
   ]
  },
  {
   "cell_type": "markdown",
   "metadata": {},
   "source": [
    "## Loading The Data"
   ]
  },
  {
   "cell_type": "code",
   "execution_count": 2,
   "metadata": {},
   "outputs": [
    {
     "name": "stdout",
     "output_type": "stream",
     "text": [
      "<class 'pandas.core.frame.DataFrame'>\n",
      "RangeIndex: 7418 entries, 0 to 7417\n",
      "Data columns (total 13 columns):\n",
      " #   Column                     Non-Null Count  Dtype  \n",
      "---  ------                     --------------  -----  \n",
      " 0   Date                       7418 non-null   object \n",
      " 1   Open Price                 7418 non-null   float64\n",
      " 2   High Price                 7418 non-null   float64\n",
      " 3   Low Price                  7418 non-null   float64\n",
      " 4   Close Price                7418 non-null   float64\n",
      " 5   WAP                        7418 non-null   float64\n",
      " 6   No.of Shares               7418 non-null   int64  \n",
      " 7   No. of Trades              7418 non-null   int64  \n",
      " 8   Total Turnover (Rs.)       7418 non-null   float64\n",
      " 9   Deliverable Quantity       4792 non-null   float64\n",
      " 10  % Deli. Qty to Traded Qty  4792 non-null   float64\n",
      " 11  Spread High-Low            7418 non-null   float64\n",
      " 12  Spread Close-Open          7418 non-null   float64\n",
      "dtypes: float64(10), int64(2), object(1)\n",
      "memory usage: 724.5+ KB\n"
     ]
    }
   ],
   "source": [
    "df =pd.read_csv('tatamo.csv')\n",
    "df.info()# To Get some information about the dataset"
   ]
  },
  {
   "cell_type": "markdown",
   "metadata": {},
   "source": [
    "## Data Processing"
   ]
  },
  {
   "cell_type": "code",
   "execution_count": 3,
   "metadata": {},
   "outputs": [],
   "source": [
    "# Converting the Date column into datetime object of Pandas\n",
    "df.Date=pd.to_datetime(df.Date)\n",
    "df.set_index('Date',inplace=True)"
   ]
  },
  {
   "cell_type": "code",
   "execution_count": 4,
   "metadata": {},
   "outputs": [
    {
     "data": {
      "text/html": [
       "<div>\n",
       "<style scoped>\n",
       "    .dataframe tbody tr th:only-of-type {\n",
       "        vertical-align: middle;\n",
       "    }\n",
       "\n",
       "    .dataframe tbody tr th {\n",
       "        vertical-align: top;\n",
       "    }\n",
       "\n",
       "    .dataframe thead th {\n",
       "        text-align: right;\n",
       "    }\n",
       "</style>\n",
       "<table border=\"1\" class=\"dataframe\">\n",
       "  <thead>\n",
       "    <tr style=\"text-align: right;\">\n",
       "      <th></th>\n",
       "      <th>Open Price</th>\n",
       "      <th>High Price</th>\n",
       "      <th>Low Price</th>\n",
       "      <th>Close Price</th>\n",
       "      <th>WAP</th>\n",
       "      <th>No.of Shares</th>\n",
       "      <th>No. of Trades</th>\n",
       "      <th>Total Turnover (Rs.)</th>\n",
       "      <th>Deliverable Quantity</th>\n",
       "      <th>% Deli. Qty to Traded Qty</th>\n",
       "      <th>Spread High-Low</th>\n",
       "      <th>Spread Close-Open</th>\n",
       "    </tr>\n",
       "    <tr>\n",
       "      <th>Date</th>\n",
       "      <th></th>\n",
       "      <th></th>\n",
       "      <th></th>\n",
       "      <th></th>\n",
       "      <th></th>\n",
       "      <th></th>\n",
       "      <th></th>\n",
       "      <th></th>\n",
       "      <th></th>\n",
       "      <th></th>\n",
       "      <th></th>\n",
       "      <th></th>\n",
       "    </tr>\n",
       "  </thead>\n",
       "  <tbody>\n",
       "    <tr>\n",
       "      <th>2021-06-11</th>\n",
       "      <td>346.45</td>\n",
       "      <td>352.90</td>\n",
       "      <td>344.75</td>\n",
       "      <td>350.75</td>\n",
       "      <td>349.506362</td>\n",
       "      <td>1605772</td>\n",
       "      <td>21014</td>\n",
       "      <td>5.612275e+08</td>\n",
       "      <td>336860.0</td>\n",
       "      <td>20.98</td>\n",
       "      <td>8.15</td>\n",
       "      <td>4.30</td>\n",
       "    </tr>\n",
       "    <tr>\n",
       "      <th>2021-06-10</th>\n",
       "      <td>345.65</td>\n",
       "      <td>347.85</td>\n",
       "      <td>342.50</td>\n",
       "      <td>344.60</td>\n",
       "      <td>345.174438</td>\n",
       "      <td>1154435</td>\n",
       "      <td>13105</td>\n",
       "      <td>3.984815e+08</td>\n",
       "      <td>202476.0</td>\n",
       "      <td>17.54</td>\n",
       "      <td>5.35</td>\n",
       "      <td>-1.05</td>\n",
       "    </tr>\n",
       "    <tr>\n",
       "      <th>2021-06-09</th>\n",
       "      <td>356.50</td>\n",
       "      <td>358.80</td>\n",
       "      <td>339.60</td>\n",
       "      <td>343.25</td>\n",
       "      <td>350.737299</td>\n",
       "      <td>4480912</td>\n",
       "      <td>59698</td>\n",
       "      <td>1.571623e+09</td>\n",
       "      <td>1345349.0</td>\n",
       "      <td>30.02</td>\n",
       "      <td>19.20</td>\n",
       "      <td>-13.25</td>\n",
       "    </tr>\n",
       "    <tr>\n",
       "      <th>2021-06-08</th>\n",
       "      <td>346.75</td>\n",
       "      <td>356.50</td>\n",
       "      <td>337.35</td>\n",
       "      <td>352.85</td>\n",
       "      <td>345.857260</td>\n",
       "      <td>3488224</td>\n",
       "      <td>48363</td>\n",
       "      <td>1.206428e+09</td>\n",
       "      <td>1422250.0</td>\n",
       "      <td>40.77</td>\n",
       "      <td>19.15</td>\n",
       "      <td>6.10</td>\n",
       "    </tr>\n",
       "    <tr>\n",
       "      <th>2021-06-07</th>\n",
       "      <td>338.55</td>\n",
       "      <td>351.00</td>\n",
       "      <td>338.55</td>\n",
       "      <td>345.50</td>\n",
       "      <td>346.270172</td>\n",
       "      <td>5575585</td>\n",
       "      <td>77740</td>\n",
       "      <td>1.930659e+09</td>\n",
       "      <td>2202934.0</td>\n",
       "      <td>39.51</td>\n",
       "      <td>12.45</td>\n",
       "      <td>6.95</td>\n",
       "    </tr>\n",
       "  </tbody>\n",
       "</table>\n",
       "</div>"
      ],
      "text/plain": [
       "            Open Price  High Price  Low Price  Close Price         WAP  \\\n",
       "Date                                                                     \n",
       "2021-06-11      346.45      352.90     344.75       350.75  349.506362   \n",
       "2021-06-10      345.65      347.85     342.50       344.60  345.174438   \n",
       "2021-06-09      356.50      358.80     339.60       343.25  350.737299   \n",
       "2021-06-08      346.75      356.50     337.35       352.85  345.857260   \n",
       "2021-06-07      338.55      351.00     338.55       345.50  346.270172   \n",
       "\n",
       "            No.of Shares  No. of Trades  Total Turnover (Rs.)  \\\n",
       "Date                                                            \n",
       "2021-06-11       1605772          21014          5.612275e+08   \n",
       "2021-06-10       1154435          13105          3.984815e+08   \n",
       "2021-06-09       4480912          59698          1.571623e+09   \n",
       "2021-06-08       3488224          48363          1.206428e+09   \n",
       "2021-06-07       5575585          77740          1.930659e+09   \n",
       "\n",
       "            Deliverable Quantity  % Deli. Qty to Traded Qty  Spread High-Low  \\\n",
       "Date                                                                           \n",
       "2021-06-11              336860.0                      20.98             8.15   \n",
       "2021-06-10              202476.0                      17.54             5.35   \n",
       "2021-06-09             1345349.0                      30.02            19.20   \n",
       "2021-06-08             1422250.0                      40.77            19.15   \n",
       "2021-06-07             2202934.0                      39.51            12.45   \n",
       "\n",
       "            Spread Close-Open  \n",
       "Date                           \n",
       "2021-06-11               4.30  \n",
       "2021-06-10              -1.05  \n",
       "2021-06-09             -13.25  \n",
       "2021-06-08               6.10  \n",
       "2021-06-07               6.95  "
      ]
     },
     "execution_count": 4,
     "metadata": {},
     "output_type": "execute_result"
    }
   ],
   "source": [
    "df.head()"
   ]
  },
  {
   "cell_type": "code",
   "execution_count": 5,
   "metadata": {},
   "outputs": [
    {
     "data": {
      "text/html": [
       "<div>\n",
       "<style scoped>\n",
       "    .dataframe tbody tr th:only-of-type {\n",
       "        vertical-align: middle;\n",
       "    }\n",
       "\n",
       "    .dataframe tbody tr th {\n",
       "        vertical-align: top;\n",
       "    }\n",
       "\n",
       "    .dataframe thead th {\n",
       "        text-align: right;\n",
       "    }\n",
       "</style>\n",
       "<table border=\"1\" class=\"dataframe\">\n",
       "  <thead>\n",
       "    <tr style=\"text-align: right;\">\n",
       "      <th></th>\n",
       "      <th>Open Price</th>\n",
       "      <th>High Price</th>\n",
       "      <th>Low Price</th>\n",
       "      <th>Close Price</th>\n",
       "      <th>WAP</th>\n",
       "      <th>No.of Shares</th>\n",
       "      <th>No. of Trades</th>\n",
       "      <th>Total Turnover (Rs.)</th>\n",
       "      <th>Deliverable Quantity</th>\n",
       "      <th>% Deli. Qty to Traded Qty</th>\n",
       "      <th>Spread High-Low</th>\n",
       "      <th>Spread Close-Open</th>\n",
       "    </tr>\n",
       "    <tr>\n",
       "      <th>Date</th>\n",
       "      <th></th>\n",
       "      <th></th>\n",
       "      <th></th>\n",
       "      <th></th>\n",
       "      <th></th>\n",
       "      <th></th>\n",
       "      <th></th>\n",
       "      <th></th>\n",
       "      <th></th>\n",
       "      <th></th>\n",
       "      <th></th>\n",
       "      <th></th>\n",
       "    </tr>\n",
       "  </thead>\n",
       "  <tbody>\n",
       "    <tr>\n",
       "      <th>1991-01-11</th>\n",
       "      <td>170.0</td>\n",
       "      <td>175.0</td>\n",
       "      <td>167.5</td>\n",
       "      <td>175.00</td>\n",
       "      <td>0.0</td>\n",
       "      <td>0</td>\n",
       "      <td>0</td>\n",
       "      <td>0.0</td>\n",
       "      <td>NaN</td>\n",
       "      <td>NaN</td>\n",
       "      <td>7.5</td>\n",
       "      <td>5.00</td>\n",
       "    </tr>\n",
       "    <tr>\n",
       "      <th>1991-01-09</th>\n",
       "      <td>177.5</td>\n",
       "      <td>177.5</td>\n",
       "      <td>167.5</td>\n",
       "      <td>171.25</td>\n",
       "      <td>0.0</td>\n",
       "      <td>0</td>\n",
       "      <td>0</td>\n",
       "      <td>0.0</td>\n",
       "      <td>NaN</td>\n",
       "      <td>NaN</td>\n",
       "      <td>10.0</td>\n",
       "      <td>-6.25</td>\n",
       "    </tr>\n",
       "    <tr>\n",
       "      <th>1991-01-07</th>\n",
       "      <td>170.0</td>\n",
       "      <td>177.5</td>\n",
       "      <td>167.5</td>\n",
       "      <td>176.25</td>\n",
       "      <td>0.0</td>\n",
       "      <td>0</td>\n",
       "      <td>0</td>\n",
       "      <td>0.0</td>\n",
       "      <td>NaN</td>\n",
       "      <td>NaN</td>\n",
       "      <td>10.0</td>\n",
       "      <td>6.25</td>\n",
       "    </tr>\n",
       "    <tr>\n",
       "      <th>1991-01-03</th>\n",
       "      <td>175.0</td>\n",
       "      <td>182.5</td>\n",
       "      <td>175.0</td>\n",
       "      <td>182.50</td>\n",
       "      <td>0.0</td>\n",
       "      <td>0</td>\n",
       "      <td>0</td>\n",
       "      <td>0.0</td>\n",
       "      <td>NaN</td>\n",
       "      <td>NaN</td>\n",
       "      <td>7.5</td>\n",
       "      <td>7.50</td>\n",
       "    </tr>\n",
       "    <tr>\n",
       "      <th>1991-01-02</th>\n",
       "      <td>175.0</td>\n",
       "      <td>182.5</td>\n",
       "      <td>175.0</td>\n",
       "      <td>182.50</td>\n",
       "      <td>0.0</td>\n",
       "      <td>0</td>\n",
       "      <td>0</td>\n",
       "      <td>0.0</td>\n",
       "      <td>NaN</td>\n",
       "      <td>NaN</td>\n",
       "      <td>7.5</td>\n",
       "      <td>7.50</td>\n",
       "    </tr>\n",
       "  </tbody>\n",
       "</table>\n",
       "</div>"
      ],
      "text/plain": [
       "            Open Price  High Price  Low Price  Close Price  WAP  No.of Shares  \\\n",
       "Date                                                                            \n",
       "1991-01-11       170.0       175.0      167.5       175.00  0.0             0   \n",
       "1991-01-09       177.5       177.5      167.5       171.25  0.0             0   \n",
       "1991-01-07       170.0       177.5      167.5       176.25  0.0             0   \n",
       "1991-01-03       175.0       182.5      175.0       182.50  0.0             0   \n",
       "1991-01-02       175.0       182.5      175.0       182.50  0.0             0   \n",
       "\n",
       "            No. of Trades  Total Turnover (Rs.)  Deliverable Quantity  \\\n",
       "Date                                                                    \n",
       "1991-01-11              0                   0.0                   NaN   \n",
       "1991-01-09              0                   0.0                   NaN   \n",
       "1991-01-07              0                   0.0                   NaN   \n",
       "1991-01-03              0                   0.0                   NaN   \n",
       "1991-01-02              0                   0.0                   NaN   \n",
       "\n",
       "            % Deli. Qty to Traded Qty  Spread High-Low  Spread Close-Open  \n",
       "Date                                                                       \n",
       "1991-01-11                        NaN              7.5               5.00  \n",
       "1991-01-09                        NaN             10.0              -6.25  \n",
       "1991-01-07                        NaN             10.0               6.25  \n",
       "1991-01-03                        NaN              7.5               7.50  \n",
       "1991-01-02                        NaN              7.5               7.50  "
      ]
     },
     "execution_count": 5,
     "metadata": {},
     "output_type": "execute_result"
    }
   ],
   "source": [
    "df.tail()"
   ]
  },
  {
   "cell_type": "code",
   "execution_count": 6,
   "metadata": {},
   "outputs": [
    {
     "data": {
      "text/plain": [
       "[<matplotlib.lines.Line2D at 0x978ba00>]"
      ]
     },
     "execution_count": 6,
     "metadata": {},
     "output_type": "execute_result"
    },
    {
     "data": {
      "image/png": "[encoded data removed]",
      "text/plain": [
       "<Figure size 432x288 with 1 Axes>"
      ]
     },
     "metadata": {
      "needs_background": "light"
     },
     "output_type": "display_data"
    }
   ],
   "source": [
    "df=df.iloc[::-1]\n",
    "df['Target']=df['Close Price'].shift(periods=-1)\n",
    "plt.plot(df.index,df['Target'])"
   ]
  },
  {
   "cell_type": "code",
   "execution_count": 7,
   "metadata": {},
   "outputs": [
    {
     "data": {
      "text/html": [
       "<div>\n",
       "<style scoped>\n",
       "    .dataframe tbody tr th:only-of-type {\n",
       "        vertical-align: middle;\n",
       "    }\n",
       "\n",
       "    .dataframe tbody tr th {\n",
       "        vertical-align: top;\n",
       "    }\n",
       "\n",
       "    .dataframe thead th {\n",
       "        text-align: right;\n",
       "    }\n",
       "</style>\n",
       "<table border=\"1\" class=\"dataframe\">\n",
       "  <thead>\n",
       "    <tr style=\"text-align: right;\">\n",
       "      <th></th>\n",
       "      <th>Open Price</th>\n",
       "      <th>High Price</th>\n",
       "      <th>Low Price</th>\n",
       "      <th>Close Price</th>\n",
       "      <th>WAP</th>\n",
       "      <th>No.of Shares</th>\n",
       "      <th>No. of Trades</th>\n",
       "      <th>Total Turnover (Rs.)</th>\n",
       "      <th>Deliverable Quantity</th>\n",
       "      <th>% Deli. Qty to Traded Qty</th>\n",
       "      <th>Spread High-Low</th>\n",
       "      <th>Spread Close-Open</th>\n",
       "      <th>Target</th>\n",
       "    </tr>\n",
       "    <tr>\n",
       "      <th>Date</th>\n",
       "      <th></th>\n",
       "      <th></th>\n",
       "      <th></th>\n",
       "      <th></th>\n",
       "      <th></th>\n",
       "      <th></th>\n",
       "      <th></th>\n",
       "      <th></th>\n",
       "      <th></th>\n",
       "      <th></th>\n",
       "      <th></th>\n",
       "      <th></th>\n",
       "      <th></th>\n",
       "    </tr>\n",
       "  </thead>\n",
       "  <tbody>\n",
       "    <tr>\n",
       "      <th>2021-06-07</th>\n",
       "      <td>338.55</td>\n",
       "      <td>351.00</td>\n",
       "      <td>338.55</td>\n",
       "      <td>345.50</td>\n",
       "      <td>346.270172</td>\n",
       "      <td>5575585</td>\n",
       "      <td>77740</td>\n",
       "      <td>1.930659e+09</td>\n",
       "      <td>2202934.0</td>\n",
       "      <td>39.51</td>\n",
       "      <td>12.45</td>\n",
       "      <td>6.95</td>\n",
       "      <td>352.85</td>\n",
       "    </tr>\n",
       "    <tr>\n",
       "      <th>2021-06-08</th>\n",
       "      <td>346.75</td>\n",
       "      <td>356.50</td>\n",
       "      <td>337.35</td>\n",
       "      <td>352.85</td>\n",
       "      <td>345.857260</td>\n",
       "      <td>3488224</td>\n",
       "      <td>48363</td>\n",
       "      <td>1.206428e+09</td>\n",
       "      <td>1422250.0</td>\n",
       "      <td>40.77</td>\n",
       "      <td>19.15</td>\n",
       "      <td>6.10</td>\n",
       "      <td>343.25</td>\n",
       "    </tr>\n",
       "    <tr>\n",
       "      <th>2021-06-09</th>\n",
       "      <td>356.50</td>\n",
       "      <td>358.80</td>\n",
       "      <td>339.60</td>\n",
       "      <td>343.25</td>\n",
       "      <td>350.737299</td>\n",
       "      <td>4480912</td>\n",
       "      <td>59698</td>\n",
       "      <td>1.571623e+09</td>\n",
       "      <td>1345349.0</td>\n",
       "      <td>30.02</td>\n",
       "      <td>19.20</td>\n",
       "      <td>-13.25</td>\n",
       "      <td>344.60</td>\n",
       "    </tr>\n",
       "    <tr>\n",
       "      <th>2021-06-10</th>\n",
       "      <td>345.65</td>\n",
       "      <td>347.85</td>\n",
       "      <td>342.50</td>\n",
       "      <td>344.60</td>\n",
       "      <td>345.174438</td>\n",
       "      <td>1154435</td>\n",
       "      <td>13105</td>\n",
       "      <td>3.984815e+08</td>\n",
       "      <td>202476.0</td>\n",
       "      <td>17.54</td>\n",
       "      <td>5.35</td>\n",
       "      <td>-1.05</td>\n",
       "      <td>350.75</td>\n",
       "    </tr>\n",
       "    <tr>\n",
       "      <th>2021-06-11</th>\n",
       "      <td>346.45</td>\n",
       "      <td>352.90</td>\n",
       "      <td>344.75</td>\n",
       "      <td>350.75</td>\n",
       "      <td>349.506362</td>\n",
       "      <td>1605772</td>\n",
       "      <td>21014</td>\n",
       "      <td>5.612275e+08</td>\n",
       "      <td>336860.0</td>\n",
       "      <td>20.98</td>\n",
       "      <td>8.15</td>\n",
       "      <td>4.30</td>\n",
       "      <td>NaN</td>\n",
       "    </tr>\n",
       "  </tbody>\n",
       "</table>\n",
       "</div>"
      ],
      "text/plain": [
       "            Open Price  High Price  Low Price  Close Price         WAP  \\\n",
       "Date                                                                     \n",
       "2021-06-07      338.55      351.00     338.55       345.50  346.270172   \n",
       "2021-06-08      346.75      356.50     337.35       352.85  345.857260   \n",
       "2021-06-09      356.50      358.80     339.60       343.25  350.737299   \n",
       "2021-06-10      345.65      347.85     342.50       344.60  345.174438   \n",
       "2021-06-11      346.45      352.90     344.75       350.75  349.506362   \n",
       "\n",
       "            No.of Shares  No. of Trades  Total Turnover (Rs.)  \\\n",
       "Date                                                            \n",
       "2021-06-07       5575585          77740          1.930659e+09   \n",
       "2021-06-08       3488224          48363          1.206428e+09   \n",
       "2021-06-09       4480912          59698          1.571623e+09   \n",
       "2021-06-10       1154435          13105          3.984815e+08   \n",
       "2021-06-11       1605772          21014          5.612275e+08   \n",
       "\n",
       "            Deliverable Quantity  % Deli. Qty to Traded Qty  Spread High-Low  \\\n",
       "Date                                                                           \n",
       "2021-06-07             2202934.0                      39.51            12.45   \n",
       "2021-06-08             1422250.0                      40.77            19.15   \n",
       "2021-06-09             1345349.0                      30.02            19.20   \n",
       "2021-06-10              202476.0                      17.54             5.35   \n",
       "2021-06-11              336860.0                      20.98             8.15   \n",
       "\n",
       "            Spread Close-Open  Target  \n",
       "Date                                   \n",
       "2021-06-07               6.95  352.85  \n",
       "2021-06-08               6.10  343.25  \n",
       "2021-06-09             -13.25  344.60  \n",
       "2021-06-10              -1.05  350.75  \n",
       "2021-06-11               4.30     NaN  "
      ]
     },
     "execution_count": 7,
     "metadata": {},
     "output_type": "execute_result"
    }
   ],
   "source": [
    "df.tail()"
   ]
  },
  {
   "cell_type": "code",
   "execution_count": 8,
   "metadata": {},
   "outputs": [
    {
     "data": {
      "text/plain": [
       "(7418, 13)"
      ]
     },
     "execution_count": 8,
     "metadata": {},
     "output_type": "execute_result"
    }
   ],
   "source": [
    "df.shape"
   ]
  },
  {
   "cell_type": "code",
   "execution_count": 9,
   "metadata": {},
   "outputs": [],
   "source": [
    "df_m=df"
   ]
  },
  {
   "cell_type": "markdown",
   "metadata": {},
   "source": [
    "Cleaning Data"
   ]
  },
  {
   "cell_type": "code",
   "execution_count": 10,
   "metadata": {},
   "outputs": [],
   "source": [
    "df_m=df_m.dropna()# To Drop all the rows with NaN values"
   ]
  },
  {
   "cell_type": "code",
   "execution_count": 11,
   "metadata": {},
   "outputs": [
    {
     "data": {
      "text/plain": [
       "(4791, 13)"
      ]
     },
     "execution_count": 11,
     "metadata": {},
     "output_type": "execute_result"
    }
   ],
   "source": [
    "df_m.shape"
   ]
  },
  {
   "cell_type": "code",
   "execution_count": 12,
   "metadata": {},
   "outputs": [
    {
     "data": {
      "text/html": [
       "<div>\n",
       "<style scoped>\n",
       "    .dataframe tbody tr th:only-of-type {\n",
       "        vertical-align: middle;\n",
       "    }\n",
       "\n",
       "    .dataframe tbody tr th {\n",
       "        vertical-align: top;\n",
       "    }\n",
       "\n",
       "    .dataframe thead th {\n",
       "        text-align: right;\n",
       "    }\n",
       "</style>\n",
       "<table border=\"1\" class=\"dataframe\">\n",
       "  <thead>\n",
       "    <tr style=\"text-align: right;\">\n",
       "      <th></th>\n",
       "      <th>Open Price</th>\n",
       "      <th>High Price</th>\n",
       "      <th>Low Price</th>\n",
       "      <th>Close Price</th>\n",
       "      <th>WAP</th>\n",
       "      <th>No.of Shares</th>\n",
       "      <th>No. of Trades</th>\n",
       "      <th>Total Turnover (Rs.)</th>\n",
       "      <th>Deliverable Quantity</th>\n",
       "      <th>% Deli. Qty to Traded Qty</th>\n",
       "      <th>Spread High-Low</th>\n",
       "      <th>Spread Close-Open</th>\n",
       "      <th>Target</th>\n",
       "    </tr>\n",
       "    <tr>\n",
       "      <th>Date</th>\n",
       "      <th></th>\n",
       "      <th></th>\n",
       "      <th></th>\n",
       "      <th></th>\n",
       "      <th></th>\n",
       "      <th></th>\n",
       "      <th></th>\n",
       "      <th></th>\n",
       "      <th></th>\n",
       "      <th></th>\n",
       "      <th></th>\n",
       "      <th></th>\n",
       "      <th></th>\n",
       "    </tr>\n",
       "  </thead>\n",
       "  <tbody>\n",
       "    <tr>\n",
       "      <th>2021-06-07</th>\n",
       "      <td>338.55</td>\n",
       "      <td>351.00</td>\n",
       "      <td>338.55</td>\n",
       "      <td>345.50</td>\n",
       "      <td>346.270172</td>\n",
       "      <td>5575585</td>\n",
       "      <td>77740</td>\n",
       "      <td>1.930659e+09</td>\n",
       "      <td>2202934.0</td>\n",
       "      <td>39.51</td>\n",
       "      <td>12.45</td>\n",
       "      <td>6.95</td>\n",
       "      <td>352.85</td>\n",
       "    </tr>\n",
       "    <tr>\n",
       "      <th>2021-06-08</th>\n",
       "      <td>346.75</td>\n",
       "      <td>356.50</td>\n",
       "      <td>337.35</td>\n",
       "      <td>352.85</td>\n",
       "      <td>345.857260</td>\n",
       "      <td>3488224</td>\n",
       "      <td>48363</td>\n",
       "      <td>1.206428e+09</td>\n",
       "      <td>1422250.0</td>\n",
       "      <td>40.77</td>\n",
       "      <td>19.15</td>\n",
       "      <td>6.10</td>\n",
       "      <td>343.25</td>\n",
       "    </tr>\n",
       "    <tr>\n",
       "      <th>2021-06-09</th>\n",
       "      <td>356.50</td>\n",
       "      <td>358.80</td>\n",
       "      <td>339.60</td>\n",
       "      <td>343.25</td>\n",
       "      <td>350.737299</td>\n",
       "      <td>4480912</td>\n",
       "      <td>59698</td>\n",
       "      <td>1.571623e+09</td>\n",
       "      <td>1345349.0</td>\n",
       "      <td>30.02</td>\n",
       "      <td>19.20</td>\n",
       "      <td>-13.25</td>\n",
       "      <td>344.60</td>\n",
       "    </tr>\n",
       "    <tr>\n",
       "      <th>2021-06-10</th>\n",
       "      <td>345.65</td>\n",
       "      <td>347.85</td>\n",
       "      <td>342.50</td>\n",
       "      <td>344.60</td>\n",
       "      <td>345.174438</td>\n",
       "      <td>1154435</td>\n",
       "      <td>13105</td>\n",
       "      <td>3.984815e+08</td>\n",
       "      <td>202476.0</td>\n",
       "      <td>17.54</td>\n",
       "      <td>5.35</td>\n",
       "      <td>-1.05</td>\n",
       "      <td>350.75</td>\n",
       "    </tr>\n",
       "    <tr>\n",
       "      <th>2021-06-11</th>\n",
       "      <td>346.45</td>\n",
       "      <td>352.90</td>\n",
       "      <td>344.75</td>\n",
       "      <td>350.75</td>\n",
       "      <td>349.506362</td>\n",
       "      <td>1605772</td>\n",
       "      <td>21014</td>\n",
       "      <td>5.612275e+08</td>\n",
       "      <td>336860.0</td>\n",
       "      <td>20.98</td>\n",
       "      <td>8.15</td>\n",
       "      <td>4.30</td>\n",
       "      <td>NaN</td>\n",
       "    </tr>\n",
       "  </tbody>\n",
       "</table>\n",
       "</div>"
      ],
      "text/plain": [
       "            Open Price  High Price  Low Price  Close Price         WAP  \\\n",
       "Date                                                                     \n",
       "2021-06-07      338.55      351.00     338.55       345.50  346.270172   \n",
       "2021-06-08      346.75      356.50     337.35       352.85  345.857260   \n",
       "2021-06-09      356.50      358.80     339.60       343.25  350.737299   \n",
       "2021-06-10      345.65      347.85     342.50       344.60  345.174438   \n",
       "2021-06-11      346.45      352.90     344.75       350.75  349.506362   \n",
       "\n",
       "            No.of Shares  No. of Trades  Total Turnover (Rs.)  \\\n",
       "Date                                                            \n",
       "2021-06-07       5575585          77740          1.930659e+09   \n",
       "2021-06-08       3488224          48363          1.206428e+09   \n",
       "2021-06-09       4480912          59698          1.571623e+09   \n",
       "2021-06-10       1154435          13105          3.984815e+08   \n",
       "2021-06-11       1605772          21014          5.612275e+08   \n",
       "\n",
       "            Deliverable Quantity  % Deli. Qty to Traded Qty  Spread High-Low  \\\n",
       "Date                                                                           \n",
       "2021-06-07             2202934.0                      39.51            12.45   \n",
       "2021-06-08             1422250.0                      40.77            19.15   \n",
       "2021-06-09             1345349.0                      30.02            19.20   \n",
       "2021-06-10              202476.0                      17.54             5.35   \n",
       "2021-06-11              336860.0                      20.98             8.15   \n",
       "\n",
       "            Spread Close-Open  Target  \n",
       "Date                                   \n",
       "2021-06-07               6.95  352.85  \n",
       "2021-06-08               6.10  343.25  \n",
       "2021-06-09             -13.25  344.60  \n",
       "2021-06-10              -1.05  350.75  \n",
       "2021-06-11               4.30     NaN  "
      ]
     },
     "execution_count": 12,
     "metadata": {},
     "output_type": "execute_result"
    }
   ],
   "source": [
    "df.tail()"
   ]
  },
  {
   "cell_type": "markdown",
   "metadata": {},
   "source": [
    "## Splitting the Data"
   ]
  },
  {
   "cell_type": "code",
   "execution_count": 13,
   "metadata": {},
   "outputs": [],
   "source": [
    "# 30% of the dataset is taken as the test dataset\n",
    "x_train,x_test,y_train,y_test=train_test_split(df_m.drop(['Target'],axis='columns'),df_m['Target'],test_size=0.3)"
   ]
  },
  {
   "cell_type": "markdown",
   "metadata": {},
   "source": [
    "## Training the Model"
   ]
  },
  {
   "cell_type": "code",
   "execution_count": 14,
   "metadata": {},
   "outputs": [],
   "source": [
    "model=RandomForestRegressor(n_estimators=500)"
   ]
  },
  {
   "cell_type": "code",
   "execution_count": 15,
   "metadata": {},
   "outputs": [
    {
     "data": {
      "text/plain": [
       "RandomForestRegressor(n_estimators=500)"
      ]
     },
     "execution_count": 15,
     "metadata": {},
     "output_type": "execute_result"
    }
   ],
   "source": [
    "model.fit(x_train,y_train)"
   ]
  },
  {
   "cell_type": "markdown",
   "metadata": {},
   "source": [
    "Accuracy"
   ]
  },
  {
   "cell_type": "code",
   "execution_count": 16,
   "metadata": {},
   "outputs": [
    {
     "data": {
      "text/plain": [
       "0.9974447867816388"
      ]
     },
     "execution_count": 16,
     "metadata": {},
     "output_type": "execute_result"
    }
   ],
   "source": [
    "model.score(x_test,y_test)"
   ]
  },
  {
   "cell_type": "code",
   "execution_count": 17,
   "metadata": {},
   "outputs": [
    {
     "data": {
      "text/html": [
       "<div>\n",
       "<style scoped>\n",
       "    .dataframe tbody tr th:only-of-type {\n",
       "        vertical-align: middle;\n",
       "    }\n",
       "\n",
       "    .dataframe tbody tr th {\n",
       "        vertical-align: top;\n",
       "    }\n",
       "\n",
       "    .dataframe thead th {\n",
       "        text-align: right;\n",
       "    }\n",
       "</style>\n",
       "<table border=\"1\" class=\"dataframe\">\n",
       "  <thead>\n",
       "    <tr style=\"text-align: right;\">\n",
       "      <th></th>\n",
       "      <th>Open Price</th>\n",
       "      <th>High Price</th>\n",
       "      <th>Low Price</th>\n",
       "      <th>Close Price</th>\n",
       "      <th>WAP</th>\n",
       "      <th>No.of Shares</th>\n",
       "      <th>No. of Trades</th>\n",
       "      <th>Total Turnover (Rs.)</th>\n",
       "      <th>Deliverable Quantity</th>\n",
       "      <th>% Deli. Qty to Traded Qty</th>\n",
       "      <th>Spread High-Low</th>\n",
       "      <th>Spread Close-Open</th>\n",
       "      <th>Target</th>\n",
       "    </tr>\n",
       "    <tr>\n",
       "      <th>Date</th>\n",
       "      <th></th>\n",
       "      <th></th>\n",
       "      <th></th>\n",
       "      <th></th>\n",
       "      <th></th>\n",
       "      <th></th>\n",
       "      <th></th>\n",
       "      <th></th>\n",
       "      <th></th>\n",
       "      <th></th>\n",
       "      <th></th>\n",
       "      <th></th>\n",
       "      <th></th>\n",
       "    </tr>\n",
       "  </thead>\n",
       "  <tbody>\n",
       "    <tr>\n",
       "      <th>2021-05-31</th>\n",
       "      <td>319.40</td>\n",
       "      <td>319.50</td>\n",
       "      <td>312.10</td>\n",
       "      <td>318.70</td>\n",
       "      <td>316.437382</td>\n",
       "      <td>2185714</td>\n",
       "      <td>29241</td>\n",
       "      <td>6.916416e+08</td>\n",
       "      <td>586127.0</td>\n",
       "      <td>26.82</td>\n",
       "      <td>7.40</td>\n",
       "      <td>-0.70</td>\n",
       "      <td>318.10</td>\n",
       "    </tr>\n",
       "    <tr>\n",
       "      <th>2021-06-01</th>\n",
       "      <td>319.65</td>\n",
       "      <td>325.70</td>\n",
       "      <td>317.40</td>\n",
       "      <td>318.10</td>\n",
       "      <td>320.652831</td>\n",
       "      <td>1479190</td>\n",
       "      <td>15161</td>\n",
       "      <td>4.743065e+08</td>\n",
       "      <td>218106.0</td>\n",
       "      <td>14.74</td>\n",
       "      <td>8.30</td>\n",
       "      <td>-1.55</td>\n",
       "      <td>323.00</td>\n",
       "    </tr>\n",
       "    <tr>\n",
       "      <th>2021-06-02</th>\n",
       "      <td>316.20</td>\n",
       "      <td>324.25</td>\n",
       "      <td>315.50</td>\n",
       "      <td>323.00</td>\n",
       "      <td>321.131989</td>\n",
       "      <td>2196974</td>\n",
       "      <td>27530</td>\n",
       "      <td>7.055186e+08</td>\n",
       "      <td>1043750.0</td>\n",
       "      <td>47.51</td>\n",
       "      <td>8.75</td>\n",
       "      <td>6.80</td>\n",
       "      <td>325.45</td>\n",
       "    </tr>\n",
       "    <tr>\n",
       "      <th>2021-06-03</th>\n",
       "      <td>324.15</td>\n",
       "      <td>327.50</td>\n",
       "      <td>323.65</td>\n",
       "      <td>325.45</td>\n",
       "      <td>325.867980</td>\n",
       "      <td>2157151</td>\n",
       "      <td>27066</td>\n",
       "      <td>7.029464e+08</td>\n",
       "      <td>970169.0</td>\n",
       "      <td>44.97</td>\n",
       "      <td>3.85</td>\n",
       "      <td>1.30</td>\n",
       "      <td>334.95</td>\n",
       "    </tr>\n",
       "    <tr>\n",
       "      <th>2021-06-04</th>\n",
       "      <td>325.45</td>\n",
       "      <td>336.90</td>\n",
       "      <td>324.50</td>\n",
       "      <td>334.95</td>\n",
       "      <td>329.707336</td>\n",
       "      <td>1897098</td>\n",
       "      <td>17556</td>\n",
       "      <td>6.254871e+08</td>\n",
       "      <td>552896.0</td>\n",
       "      <td>29.14</td>\n",
       "      <td>12.40</td>\n",
       "      <td>9.50</td>\n",
       "      <td>345.50</td>\n",
       "    </tr>\n",
       "    <tr>\n",
       "      <th>2021-06-07</th>\n",
       "      <td>338.55</td>\n",
       "      <td>351.00</td>\n",
       "      <td>338.55</td>\n",
       "      <td>345.50</td>\n",
       "      <td>346.270172</td>\n",
       "      <td>5575585</td>\n",
       "      <td>77740</td>\n",
       "      <td>1.930659e+09</td>\n",
       "      <td>2202934.0</td>\n",
       "      <td>39.51</td>\n",
       "      <td>12.45</td>\n",
       "      <td>6.95</td>\n",
       "      <td>352.85</td>\n",
       "    </tr>\n",
       "    <tr>\n",
       "      <th>2021-06-08</th>\n",
       "      <td>346.75</td>\n",
       "      <td>356.50</td>\n",
       "      <td>337.35</td>\n",
       "      <td>352.85</td>\n",
       "      <td>345.857260</td>\n",
       "      <td>3488224</td>\n",
       "      <td>48363</td>\n",
       "      <td>1.206428e+09</td>\n",
       "      <td>1422250.0</td>\n",
       "      <td>40.77</td>\n",
       "      <td>19.15</td>\n",
       "      <td>6.10</td>\n",
       "      <td>343.25</td>\n",
       "    </tr>\n",
       "    <tr>\n",
       "      <th>2021-06-09</th>\n",
       "      <td>356.50</td>\n",
       "      <td>358.80</td>\n",
       "      <td>339.60</td>\n",
       "      <td>343.25</td>\n",
       "      <td>350.737299</td>\n",
       "      <td>4480912</td>\n",
       "      <td>59698</td>\n",
       "      <td>1.571623e+09</td>\n",
       "      <td>1345349.0</td>\n",
       "      <td>30.02</td>\n",
       "      <td>19.20</td>\n",
       "      <td>-13.25</td>\n",
       "      <td>344.60</td>\n",
       "    </tr>\n",
       "    <tr>\n",
       "      <th>2021-06-10</th>\n",
       "      <td>345.65</td>\n",
       "      <td>347.85</td>\n",
       "      <td>342.50</td>\n",
       "      <td>344.60</td>\n",
       "      <td>345.174438</td>\n",
       "      <td>1154435</td>\n",
       "      <td>13105</td>\n",
       "      <td>3.984815e+08</td>\n",
       "      <td>202476.0</td>\n",
       "      <td>17.54</td>\n",
       "      <td>5.35</td>\n",
       "      <td>-1.05</td>\n",
       "      <td>350.75</td>\n",
       "    </tr>\n",
       "    <tr>\n",
       "      <th>2021-06-11</th>\n",
       "      <td>346.45</td>\n",
       "      <td>352.90</td>\n",
       "      <td>344.75</td>\n",
       "      <td>350.75</td>\n",
       "      <td>349.506362</td>\n",
       "      <td>1605772</td>\n",
       "      <td>21014</td>\n",
       "      <td>5.612275e+08</td>\n",
       "      <td>336860.0</td>\n",
       "      <td>20.98</td>\n",
       "      <td>8.15</td>\n",
       "      <td>4.30</td>\n",
       "      <td>NaN</td>\n",
       "    </tr>\n",
       "  </tbody>\n",
       "</table>\n",
       "</div>"
      ],
      "text/plain": [
       "            Open Price  High Price  Low Price  Close Price         WAP  \\\n",
       "Date                                                                     \n",
       "2021-05-31      319.40      319.50     312.10       318.70  316.437382   \n",
       "2021-06-01      319.65      325.70     317.40       318.10  320.652831   \n",
       "2021-06-02      316.20      324.25     315.50       323.00  321.131989   \n",
       "2021-06-03      324.15      327.50     323.65       325.45  325.867980   \n",
       "2021-06-04      325.45      336.90     324.50       334.95  329.707336   \n",
       "2021-06-07      338.55      351.00     338.55       345.50  346.270172   \n",
       "2021-06-08      346.75      356.50     337.35       352.85  345.857260   \n",
       "2021-06-09      356.50      358.80     339.60       343.25  350.737299   \n",
       "2021-06-10      345.65      347.85     342.50       344.60  345.174438   \n",
       "2021-06-11      346.45      352.90     344.75       350.75  349.506362   \n",
       "\n",
       "            No.of Shares  No. of Trades  Total Turnover (Rs.)  \\\n",
       "Date                                                            \n",
       "2021-05-31       2185714          29241          6.916416e+08   \n",
       "2021-06-01       1479190          15161          4.743065e+08   \n",
       "2021-06-02       2196974          27530          7.055186e+08   \n",
       "2021-06-03       2157151          27066          7.029464e+08   \n",
       "2021-06-04       1897098          17556          6.254871e+08   \n",
       "2021-06-07       5575585          77740          1.930659e+09   \n",
       "2021-06-08       3488224          48363          1.206428e+09   \n",
       "2021-06-09       4480912          59698          1.571623e+09   \n",
       "2021-06-10       1154435          13105          3.984815e+08   \n",
       "2021-06-11       1605772          21014          5.612275e+08   \n",
       "\n",
       "            Deliverable Quantity  % Deli. Qty to Traded Qty  Spread High-Low  \\\n",
       "Date                                                                           \n",
       "2021-05-31              586127.0                      26.82             7.40   \n",
       "2021-06-01              218106.0                      14.74             8.30   \n",
       "2021-06-02             1043750.0                      47.51             8.75   \n",
       "2021-06-03              970169.0                      44.97             3.85   \n",
       "2021-06-04              552896.0                      29.14            12.40   \n",
       "2021-06-07             2202934.0                      39.51            12.45   \n",
       "2021-06-08             1422250.0                      40.77            19.15   \n",
       "2021-06-09             1345349.0                      30.02            19.20   \n",
       "2021-06-10              202476.0                      17.54             5.35   \n",
       "2021-06-11              336860.0                      20.98             8.15   \n",
       "\n",
       "            Spread Close-Open  Target  \n",
       "Date                                   \n",
       "2021-05-31              -0.70  318.10  \n",
       "2021-06-01              -1.55  323.00  \n",
       "2021-06-02               6.80  325.45  \n",
       "2021-06-03               1.30  334.95  \n",
       "2021-06-04               9.50  345.50  \n",
       "2021-06-07               6.95  352.85  \n",
       "2021-06-08               6.10  343.25  \n",
       "2021-06-09             -13.25  344.60  \n",
       "2021-06-10              -1.05  350.75  \n",
       "2021-06-11               4.30     NaN  "
      ]
     },
     "execution_count": 17,
     "metadata": {},
     "output_type": "execute_result"
    }
   ],
   "source": [
    "df.tail(10)"
   ]
  },
  {
   "cell_type": "code",
   "execution_count": 18,
   "metadata": {},
   "outputs": [],
   "source": [
    "pred_y=model.predict(x_test)"
   ]
  },
  {
   "cell_type": "markdown",
   "metadata": {},
   "source": [
    "## Evaluvation And Visualisation"
   ]
  },
  {
   "cell_type": "code",
   "execution_count": 19,
   "metadata": {},
   "outputs": [
    {
     "data": {
      "text/plain": [
       "13.634986418487735"
      ]
     },
     "execution_count": 19,
     "metadata": {},
     "output_type": "execute_result"
    }
   ],
   "source": [
    "#Root Mean Sqaured Error\n",
    "mean_squared_error(y_test,pred_y,squared=False)"
   ]
  },
  {
   "cell_type": "code",
   "execution_count": 20,
   "metadata": {},
   "outputs": [
    {
     "data": {
      "text/plain": [
       "185.912854632345"
      ]
     },
     "execution_count": 20,
     "metadata": {},
     "output_type": "execute_result"
    }
   ],
   "source": [
    "#Squared Error\n",
    "mean_squared_error(y_test,pred_y)"
   ]
  },
  {
   "cell_type": "code",
   "execution_count": 21,
   "metadata": {},
   "outputs": [
    {
     "data": {
      "text/plain": [
       "8.957333588317129"
      ]
     },
     "execution_count": 21,
     "metadata": {},
     "output_type": "execute_result"
    }
   ],
   "source": [
    "# Mean_Absolute Error\n",
    "mean_absolute_error(y_test,pred_y)"
   ]
  },
  {
   "cell_type": "code",
   "execution_count": 22,
   "metadata": {},
   "outputs": [
    {
     "data": {
      "image/png": "[encoded data removed]",
      "text/plain": [
       "<Figure size 432x288 with 1 Axes>"
      ]
     },
     "metadata": {},
     "output_type": "display_data"
    }
   ],
   "source": [
    "delta_y = y_test-pred_y;\n",
    "sns.set_style('whitegrid')\n",
    "sns.kdeplot(np.array(delta_y), bw=1)\n",
    "plt.show()"
   ]
  },
  {
   "cell_type": "code",
   "execution_count": 23,
   "metadata": {},
   "outputs": [
    {
     "data": {
      "image/png": "[encoded data removed]",
      "text/plain": [
       "<Figure size 432x288 with 1 Axes>"
      ]
     },
     "metadata": {},
     "output_type": "display_data"
    }
   ],
   "source": [
    "sns.set_style('whitegrid')\n",
    "sns.kdeplot(np.array(pred_y), bw=0.5)\n",
    "plt.show()"
   ]
  },
  {
   "cell_type": "code",
   "execution_count": 24,
   "metadata": {},
   "outputs": [
    {
     "data": {
      "image/png": "[encoded data removed]",
      "text/plain": [
       "<Figure size 432x288 with 1 Axes>"
      ]
     },
     "metadata": {},
     "output_type": "display_data"
    }
   ],
   "source": [
    "sns.set_style('whitegrid')\n",
    "sns.kdeplot(np.array(y_test), bw=0.5)\n",
    "plt.show()"
   ]
  },
  {
   "cell_type": "code",
   "execution_count": 25,
   "metadata": {},
   "outputs": [
    {
     "data": {
      "image/png": "[encoded data removed]",
      "text/plain": [
       "<Figure size 432x288 with 1 Axes>"
      ]
     },
     "metadata": {},
     "output_type": "display_data"
    }
   ],
   "source": [
    "plt.plot(pred_y,color='red', label='prediction')\n",
    "plt.plot(list(y_test),color='blue', label='y_test')\n",
    "plt.xlabel('days->')\n",
    "plt.ylabel('prices->')\n",
    "plt.legend(loc='upper left')\n",
    "plt.show()"
   ]
  },
  {
   "cell_type": "code",
   "execution_count": 26,
   "metadata": {},
   "outputs": [
    {
     "data": {
      "text/plain": [
       "array([1341.3056])"
      ]
     },
     "execution_count": 26,
     "metadata": {},
     "output_type": "execute_result"
    }
   ],
   "source": [
    "#Real Time Prediction\n",
    "model.predict([[2205.90,2241.80,2184.60,2227.30,2215.96,615525,36724,1363979932,233667,37.96,57.20,21.40]])"
   ]
  },
  {
   "cell_type": "code",
   "execution_count": null,
   "metadata": {},
   "outputs": [],
   "source": []
  }
 ],
 "metadata": {
  "kernelspec": {
   "display_name": "Python 3",
   "language": "python",
   "name": "python3"
  },
  "language_info": {
   "codemirror_mode": {
    "name": "ipython",
    "version": 3
   },
   "file_extension": ".py",
   "mimetype": "text/x-python",
   "name": "python",
   "nbconvert_exporter": "python",
   "pygments_lexer": "ipython3",
   "version": "3.8.3"
  }
 },
 "nbformat": 4,
 "nbformat_minor": 4
}
